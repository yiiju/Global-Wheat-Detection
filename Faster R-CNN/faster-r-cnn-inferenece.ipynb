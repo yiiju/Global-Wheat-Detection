{
 "cells": [
  {
   "cell_type": "code",
   "execution_count": 1,
   "metadata": {
    "_cell_guid": "b1076dfc-b9ad-4769-8c92-a6c4dae69d19",
    "_uuid": "8f2839f25d086af736a60e9eeb907d3b93b6e0e5",
    "execution": {
     "iopub.execute_input": "2020-12-24T07:50:25.907618Z",
     "iopub.status.busy": "2020-12-24T07:50:25.906844Z",
     "iopub.status.idle": "2020-12-24T07:50:28.332611Z",
     "shell.execute_reply": "2020-12-24T07:50:28.331439Z"
    },
    "papermill": {
     "duration": 2.446912,
     "end_time": "2020-12-24T07:50:28.332754",
     "exception": false,
     "start_time": "2020-12-24T07:50:25.885842",
     "status": "completed"
    },
    "tags": []
   },
   "outputs": [],
   "source": [
    "import pandas as pd\n",
    "import numpy as np\n",
    "import numba\n",
    "import re\n",
    "import cv2\n",
    "import ast\n",
    "import os\n",
    "from PIL import Image\n",
    "import matplotlib.pyplot as plt\n",
    "\n",
    "from numba import jit\n",
    "from typing import List, Union, Tuple\n",
    "\n",
    "import torchvision\n",
    "import torch\n",
    "import torch.nn as nn\n",
    "import torch.utils.data as Data\n",
    "from torch.utils.data import DataLoader\n",
    "import torch.optim as optim\n",
    "import torchvision.models \n",
    "import matplotlib.pyplot as plt\n",
    "import torchvision.transforms as T\n",
    "from torchvision.transforms import functional as F\n",
    "import torchvision.models as models"
   ]
  },
  {
   "cell_type": "code",
   "execution_count": 2,
   "metadata": {
    "_cell_guid": "79c7e3d0-c299-4dcb-8224-4455121ee9b0",
    "_uuid": "d629ff2d2480ee46fbb7e2d37f6b5fab8052498a",
    "execution": {
     "iopub.execute_input": "2020-12-24T07:50:28.358487Z",
     "iopub.status.busy": "2020-12-24T07:50:28.357900Z",
     "iopub.status.idle": "2020-12-24T07:50:28.368568Z",
     "shell.execute_reply": "2020-12-24T07:50:28.367888Z"
    },
    "papermill": {
     "duration": 0.025803,
     "end_time": "2020-12-24T07:50:28.368667",
     "exception": false,
     "start_time": "2020-12-24T07:50:28.342864",
     "status": "completed"
    },
    "tags": []
   },
   "outputs": [],
   "source": [
    "test_df = pd.read_csv('../input/global-wheat-detection/' + 'sample_submission.csv')\n",
    "test_path = '../input/global-wheat-detection/test'"
   ]
  },
  {
   "cell_type": "code",
   "execution_count": 3,
   "metadata": {
    "execution": {
     "iopub.execute_input": "2020-12-24T07:50:28.397897Z",
     "iopub.status.busy": "2020-12-24T07:50:28.397137Z",
     "iopub.status.idle": "2020-12-24T07:50:28.400223Z",
     "shell.execute_reply": "2020-12-24T07:50:28.399757Z"
    },
    "papermill": {
     "duration": 0.021684,
     "end_time": "2020-12-24T07:50:28.400321",
     "exception": false,
     "start_time": "2020-12-24T07:50:28.378637",
     "status": "completed"
    },
    "tags": []
   },
   "outputs": [],
   "source": [
    "class global_wheat_detection(Data.Dataset):\n",
    "    def __init__(self, dataframe, image_dir, transform = None):\n",
    "\n",
    "        self.transform = transform\n",
    "        self.df = dataframe\n",
    "        self.image_dir = image_dir\n",
    "        self.image_ids = dataframe['image_id'].unique()\n",
    "        \n",
    "\n",
    "\n",
    "    def __getitem__(self, index):\n",
    "        image_id = self.image_ids[index]\n",
    "        \n",
    "        image_path = os.path.join(self.image_dir, image_id + '.jpg')\n",
    "        img = np.array(Image.open(image_path).convert(\"RGB\"))\n",
    "        \n",
    "        \n",
    "        img = T.ToTensor()(img)\n",
    "            \n",
    "\n",
    "        return img, image_id\n",
    "            \n",
    "    def __len__(self):\n",
    "\n",
    "        return self.image_ids.shape[0]\n",
    "\n"
   ]
  },
  {
   "cell_type": "code",
   "execution_count": 4,
   "metadata": {
    "execution": {
     "iopub.execute_input": "2020-12-24T07:50:28.424930Z",
     "iopub.status.busy": "2020-12-24T07:50:28.424118Z",
     "iopub.status.idle": "2020-12-24T07:50:28.427288Z",
     "shell.execute_reply": "2020-12-24T07:50:28.426663Z"
    },
    "papermill": {
     "duration": 0.01713,
     "end_time": "2020-12-24T07:50:28.427391",
     "exception": false,
     "start_time": "2020-12-24T07:50:28.410261",
     "status": "completed"
    },
    "tags": []
   },
   "outputs": [],
   "source": [
    "from torchvision.models.detection.faster_rcnn import FastRCNNPredictor\n",
    "from torchvision.models.detection import FasterRCNN\n",
    "from torchvision.models.detection.rpn import AnchorGenerator"
   ]
  },
  {
   "cell_type": "code",
   "execution_count": 5,
   "metadata": {
    "execution": {
     "iopub.execute_input": "2020-12-24T07:50:28.453861Z",
     "iopub.status.busy": "2020-12-24T07:50:28.453239Z",
     "iopub.status.idle": "2020-12-24T07:50:29.093473Z",
     "shell.execute_reply": "2020-12-24T07:50:29.092826Z"
    },
    "papermill": {
     "duration": 0.65642,
     "end_time": "2020-12-24T07:50:29.093590",
     "exception": false,
     "start_time": "2020-12-24T07:50:28.437170",
     "status": "completed"
    },
    "tags": []
   },
   "outputs": [],
   "source": [
    "model = torchvision.models.detection.fasterrcnn_resnet50_fpn(pretrained=False, pretrained_backbone=False)\n",
    "num_classes = 2  # 1 class (wheat) + background\n",
    "\n",
    "# get number of input features for the classifier\n",
    "in_features = model.roi_heads.box_predictor.cls_score.in_features\n",
    "\n",
    "# replace the pre-trained head with a new one\n",
    "model.roi_heads.box_predictor = FastRCNNPredictor(in_features, num_classes)"
   ]
  },
  {
   "cell_type": "code",
   "execution_count": 6,
   "metadata": {
    "execution": {
     "iopub.execute_input": "2020-12-24T07:50:29.477067Z",
     "iopub.status.busy": "2020-12-24T07:50:29.476216Z",
     "iopub.status.idle": "2020-12-24T07:50:29.480859Z",
     "shell.execute_reply": "2020-12-24T07:50:29.480073Z"
    },
    "papermill": {
     "duration": 0.375201,
     "end_time": "2020-12-24T07:50:29.480965",
     "exception": false,
     "start_time": "2020-12-24T07:50:29.105764",
     "status": "completed"
    },
    "tags": []
   },
   "outputs": [],
   "source": [
    "device = torch.device('cuda') if torch.cuda.is_available() else torch.device('cpu')"
   ]
  },
  {
   "cell_type": "code",
   "execution_count": 7,
   "metadata": {
    "execution": {
     "iopub.execute_input": "2020-12-24T07:50:29.506402Z",
     "iopub.status.busy": "2020-12-24T07:50:29.505829Z",
     "iopub.status.idle": "2020-12-24T07:50:37.573961Z",
     "shell.execute_reply": "2020-12-24T07:50:37.573367Z"
    },
    "papermill": {
     "duration": 8.082723,
     "end_time": "2020-12-24T07:50:37.574113",
     "exception": false,
     "start_time": "2020-12-24T07:50:29.491390",
     "status": "completed"
    },
    "tags": []
   },
   "outputs": [],
   "source": [
    "model.load_state_dict(torch.load('../input/modelwieght2/17fasterrcnn_resnet50_fpn.pth'))\n",
    "\n",
    "model.to(device)\n",
    "model.eval()\n",
    "a = 1"
   ]
  },
  {
   "cell_type": "code",
   "execution_count": 8,
   "metadata": {
    "execution": {
     "iopub.execute_input": "2020-12-24T07:50:37.604644Z",
     "iopub.status.busy": "2020-12-24T07:50:37.603990Z",
     "iopub.status.idle": "2020-12-24T07:50:37.606808Z",
     "shell.execute_reply": "2020-12-24T07:50:37.607246Z"
    },
    "papermill": {
     "duration": 0.022756,
     "end_time": "2020-12-24T07:50:37.607357",
     "exception": false,
     "start_time": "2020-12-24T07:50:37.584601",
     "status": "completed"
    },
    "tags": []
   },
   "outputs": [],
   "source": [
    "def collate_fn(batch):\n",
    "    return tuple(zip(*batch))\n",
    "\n",
    "test_dataset = global_wheat_detection(test_df, test_path)\n",
    "\n",
    "test_data_loader = DataLoader(\n",
    "    test_dataset,\n",
    "    batch_size=4,\n",
    "    shuffle=False,\n",
    "    num_workers=4,\n",
    "    drop_last=False,\n",
    "    collate_fn=collate_fn\n",
    ")"
   ]
  },
  {
   "cell_type": "code",
   "execution_count": 9,
   "metadata": {
    "execution": {
     "iopub.execute_input": "2020-12-24T07:50:37.635701Z",
     "iopub.status.busy": "2020-12-24T07:50:37.633881Z",
     "iopub.status.idle": "2020-12-24T07:50:37.636352Z",
     "shell.execute_reply": "2020-12-24T07:50:37.636825Z"
    },
    "papermill": {
     "duration": 0.01928,
     "end_time": "2020-12-24T07:50:37.636931",
     "exception": false,
     "start_time": "2020-12-24T07:50:37.617651",
     "status": "completed"
    },
    "tags": []
   },
   "outputs": [],
   "source": [
    "def format_prediction_string(boxes, scores):\n",
    "    pred_strings = []\n",
    "    for j in zip(scores, boxes):\n",
    "        pred_strings.append(\"{0:.4f} {1} {2} {3} {4}\".format(j[0], j[1][0], j[1][1], j[1][2], j[1][3]))\n",
    "\n",
    "    return \" \".join(pred_strings)"
   ]
  },
  {
   "cell_type": "code",
   "execution_count": 10,
   "metadata": {
    "execution": {
     "iopub.execute_input": "2020-12-24T07:50:37.669774Z",
     "iopub.status.busy": "2020-12-24T07:50:37.669107Z",
     "iopub.status.idle": "2020-12-24T07:50:39.603216Z",
     "shell.execute_reply": "2020-12-24T07:50:39.602539Z"
    },
    "papermill": {
     "duration": 1.955219,
     "end_time": "2020-12-24T07:50:39.603329",
     "exception": false,
     "start_time": "2020-12-24T07:50:37.648110",
     "status": "completed"
    },
    "tags": []
   },
   "outputs": [],
   "source": [
    "detection_threshold = 0.5\n",
    "results = []\n",
    "\n",
    "for images, image_ids in test_data_loader:\n",
    "\n",
    "    images = list(image.to(device) for image in images)\n",
    "    outputs = model(images)\n",
    "\n",
    "    for i, image in enumerate(images):\n",
    "\n",
    "        boxes = outputs[i]['boxes'].data.cpu().numpy()\n",
    "        scores = outputs[i]['scores'].data.cpu().numpy()\n",
    "        \n",
    "        boxes = boxes[scores >= detection_threshold].astype(np.int32)\n",
    "        scores = scores[scores >= detection_threshold]\n",
    "        image_id = image_ids[i]\n",
    "        \n",
    "        boxes[:, 2] = boxes[:, 2] - boxes[:, 0]\n",
    "        boxes[:, 3] = boxes[:, 3] - boxes[:, 1]\n",
    "        \n",
    "        result = {\n",
    "            'image_id': image_id,\n",
    "            'PredictionString': format_prediction_string(boxes, scores)\n",
    "        }\n",
    "\n",
    "        \n",
    "        results.append(result)"
   ]
  },
  {
   "cell_type": "code",
   "execution_count": 11,
   "metadata": {
    "execution": {
     "iopub.execute_input": "2020-12-24T07:50:39.631326Z",
     "iopub.status.busy": "2020-12-24T07:50:39.630631Z",
     "iopub.status.idle": "2020-12-24T07:50:39.648988Z",
     "shell.execute_reply": "2020-12-24T07:50:39.649449Z"
    },
    "papermill": {
     "duration": 0.034293,
     "end_time": "2020-12-24T07:50:39.649557",
     "exception": false,
     "start_time": "2020-12-24T07:50:39.615264",
     "status": "completed"
    },
    "tags": []
   },
   "outputs": [
    {
     "data": {
      "text/html": [
       "<div>\n",
       "<style scoped>\n",
       "    .dataframe tbody tr th:only-of-type {\n",
       "        vertical-align: middle;\n",
       "    }\n",
       "\n",
       "    .dataframe tbody tr th {\n",
       "        vertical-align: top;\n",
       "    }\n",
       "\n",
       "    .dataframe thead th {\n",
       "        text-align: right;\n",
       "    }\n",
       "</style>\n",
       "<table border=\"1\" class=\"dataframe\">\n",
       "  <thead>\n",
       "    <tr style=\"text-align: right;\">\n",
       "      <th></th>\n",
       "      <th>image_id</th>\n",
       "      <th>PredictionString</th>\n",
       "    </tr>\n",
       "  </thead>\n",
       "  <tbody>\n",
       "    <tr>\n",
       "      <th>0</th>\n",
       "      <td>aac893a91</td>\n",
       "      <td>0.9950 69 0 102 161 0.9923 617 912 76 111 0.98...</td>\n",
       "    </tr>\n",
       "    <tr>\n",
       "      <th>1</th>\n",
       "      <td>51f1be19e</td>\n",
       "      <td>0.9948 605 82 157 176 0.9873 276 471 135 123 0...</td>\n",
       "    </tr>\n",
       "    <tr>\n",
       "      <th>2</th>\n",
       "      <td>f5a1f0358</td>\n",
       "      <td>0.9931 552 404 75 93 0.9924 546 271 106 110 0....</td>\n",
       "    </tr>\n",
       "    <tr>\n",
       "      <th>3</th>\n",
       "      <td>796707dd7</td>\n",
       "      <td>0.9892 713 824 105 100 0.9887 901 335 97 86 0....</td>\n",
       "    </tr>\n",
       "    <tr>\n",
       "      <th>4</th>\n",
       "      <td>51b3e36ab</td>\n",
       "      <td>0.9980 836 451 183 155 0.9978 0 436 101 315 0....</td>\n",
       "    </tr>\n",
       "  </tbody>\n",
       "</table>\n",
       "</div>"
      ],
      "text/plain": [
       "    image_id                                   PredictionString\n",
       "0  aac893a91  0.9950 69 0 102 161 0.9923 617 912 76 111 0.98...\n",
       "1  51f1be19e  0.9948 605 82 157 176 0.9873 276 471 135 123 0...\n",
       "2  f5a1f0358  0.9931 552 404 75 93 0.9924 546 271 106 110 0....\n",
       "3  796707dd7  0.9892 713 824 105 100 0.9887 901 335 97 86 0....\n",
       "4  51b3e36ab  0.9980 836 451 183 155 0.9978 0 436 101 315 0...."
      ]
     },
     "execution_count": 11,
     "metadata": {},
     "output_type": "execute_result"
    }
   ],
   "source": [
    "test_df = pd.DataFrame(results, columns=['image_id', 'PredictionString'])\n",
    "test_df.head()"
   ]
  },
  {
   "cell_type": "code",
   "execution_count": 12,
   "metadata": {
    "execution": {
     "iopub.execute_input": "2020-12-24T07:50:39.676163Z",
     "iopub.status.busy": "2020-12-24T07:50:39.675338Z",
     "iopub.status.idle": "2020-12-24T07:50:39.900512Z",
     "shell.execute_reply": "2020-12-24T07:50:39.899427Z"
    },
    "papermill": {
     "duration": 0.239847,
     "end_time": "2020-12-24T07:50:39.900628",
     "exception": false,
     "start_time": "2020-12-24T07:50:39.660781",
     "status": "completed"
    },
    "tags": []
   },
   "outputs": [],
   "source": [
    "test_df.to_csv('submission.csv', index=False)"
   ]
  },
  {
   "cell_type": "code",
   "execution_count": null,
   "metadata": {
    "papermill": {
     "duration": 0.011627,
     "end_time": "2020-12-24T07:50:39.924039",
     "exception": false,
     "start_time": "2020-12-24T07:50:39.912412",
     "status": "completed"
    },
    "tags": []
   },
   "outputs": [],
   "source": []
  }
 ],
 "metadata": {
  "kernelspec": {
   "display_name": "Python 3",
   "language": "python",
   "name": "python3"
  },
  "language_info": {
   "codemirror_mode": {
    "name": "ipython",
    "version": 3
   },
   "file_extension": ".py",
   "mimetype": "text/x-python",
   "name": "python",
   "nbconvert_exporter": "python",
   "pygments_lexer": "ipython3",
   "version": "3.7.6"
  },
  "papermill": {
   "duration": 19.795451,
   "end_time": "2020-12-24T07:50:41.479588",
   "environment_variables": {},
   "exception": null,
   "input_path": "__notebook__.ipynb",
   "output_path": "__notebook__.ipynb",
   "parameters": {},
   "start_time": "2020-12-24T07:50:21.684137",
   "version": "2.1.0"
  }
 },
 "nbformat": 4,
 "nbformat_minor": 4
}
