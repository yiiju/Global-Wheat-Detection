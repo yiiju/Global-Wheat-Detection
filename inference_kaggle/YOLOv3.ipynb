{
 "cells": [
  {
   "cell_type": "code",
   "execution_count": 1,
   "metadata": {
    "_cell_guid": "b1076dfc-b9ad-4769-8c92-a6c4dae69d19",
    "_uuid": "8f2839f25d086af736a60e9eeb907d3b93b6e0e5",
    "execution": {
     "iopub.execute_input": "2020-12-28T03:53:51.728640Z",
     "iopub.status.busy": "2020-12-28T03:53:51.727738Z",
     "iopub.status.idle": "2020-12-28T03:55:46.172270Z",
     "shell.execute_reply": "2020-12-28T03:55:46.172808Z"
    },
    "papermill": {
     "duration": 114.47827,
     "end_time": "2020-12-28T03:55:46.173014",
     "exception": false,
     "start_time": "2020-12-28T03:53:51.694744",
     "status": "completed"
    },
    "tags": []
   },
   "outputs": [
    {
     "name": "stdout",
     "output_type": "stream",
     "text": [
      "Processing /kaggle/input/mmcvwhl/addict-2.2.1-py3-none-any.whl\r\n",
      "Installing collected packages: addict\r\n",
      "Successfully installed addict-2.2.1\r\n",
      "Processing /kaggle/input/mmdetection20513/mmcv-0.5.1-cp37-cp37m-linux_x86_64.whl\r\n",
      "Requirement already satisfied: opencv-python>=3 in /opt/conda/lib/python3.7/site-packages (from mmcv==0.5.1) (4.4.0.46)\r\n",
      "Requirement already satisfied: addict in /opt/conda/lib/python3.7/site-packages (from mmcv==0.5.1) (2.2.1)\r\n",
      "Requirement already satisfied: pyyaml in /opt/conda/lib/python3.7/site-packages (from mmcv==0.5.1) (5.3.1)\r\n",
      "Requirement already satisfied: numpy in /opt/conda/lib/python3.7/site-packages (from mmcv==0.5.1) (1.18.5)\r\n",
      "Requirement already satisfied: numpy in /opt/conda/lib/python3.7/site-packages (from mmcv==0.5.1) (1.18.5)\r\n",
      "Installing collected packages: mmcv\r\n",
      "Successfully installed mmcv-0.5.1\r\n",
      "Processing /kaggle/input/mmdetection20513/terminal-0.4.0-py3-none-any.whl\r\n",
      "Installing collected packages: terminal\r\n",
      "Successfully installed terminal-0.4.0\r\n",
      "Processing /kaggle/input/mmdetection20513/terminaltables-3.1.0-py3-none-any.whl\r\n",
      "terminaltables is already installed with the same version as the provided wheel. Use --force-reinstall to force an installation of the wheel.\r\n"
     ]
    }
   ],
   "source": [
    "!pip install ../input/mmcvwhl/addict-2.2.1-py3-none-any.whl\n",
    "!pip install ../input/mmdetection20513/mmcv-0.5.1-cp37-cp37m-linux_x86_64.whl\n",
    "!pip install ../input/mmdetection20513/terminal-0.4.0-py3-none-any.whl\n",
    "!pip install ../input/mmdetection20513/terminaltables-3.1.0-py3-none-any.whl"
   ]
  },
  {
   "cell_type": "code",
   "execution_count": 2,
   "metadata": {
    "_cell_guid": "79c7e3d0-c299-4dcb-8224-4455121ee9b0",
    "_uuid": "d629ff2d2480ee46fbb7e2d37f6b5fab8052498a",
    "execution": {
     "iopub.execute_input": "2020-12-28T03:55:46.220180Z",
     "iopub.status.busy": "2020-12-28T03:55:46.219257Z",
     "iopub.status.idle": "2020-12-28T03:56:22.290808Z",
     "shell.execute_reply": "2020-12-28T03:56:22.290073Z"
    },
    "papermill": {
     "duration": 36.097151,
     "end_time": "2020-12-28T03:56:22.290920",
     "exception": false,
     "start_time": "2020-12-28T03:55:46.193769",
     "status": "completed"
    },
    "tags": []
   },
   "outputs": [],
   "source": [
    "!cp -r ../input/mmdetection/mmdetection ."
   ]
  },
  {
   "cell_type": "code",
   "execution_count": 3,
   "metadata": {
    "execution": {
     "iopub.execute_input": "2020-12-28T03:56:34.925535Z",
     "iopub.status.busy": "2020-12-28T03:56:34.921977Z",
     "iopub.status.idle": "2020-12-28T03:56:34.933366Z",
     "shell.execute_reply": "2020-12-28T03:56:34.934978Z"
    },
    "papermill": {
     "duration": 11.496046,
     "end_time": "2020-12-28T03:56:34.935213",
     "exception": false,
     "start_time": "2020-12-28T03:56:23.439167",
     "status": "completed"
    },
    "tags": []
   },
   "outputs": [
    {
     "name": "stdout",
     "output_type": "stream",
     "text": [
      "/kaggle/working/mmdetection\n"
     ]
    }
   ],
   "source": [
    "cd mmdetection"
   ]
  },
  {
   "cell_type": "code",
   "execution_count": 4,
   "metadata": {
    "execution": {
     "iopub.execute_input": "2020-12-28T03:56:34.986324Z",
     "iopub.status.busy": "2020-12-28T03:56:34.985387Z",
     "iopub.status.idle": "2020-12-28T03:56:36.515970Z",
     "shell.execute_reply": "2020-12-28T03:56:36.514909Z"
    },
    "papermill": {
     "duration": 1.556698,
     "end_time": "2020-12-28T03:56:36.516092",
     "exception": false,
     "start_time": "2020-12-28T03:56:34.959394",
     "status": "completed"
    },
    "tags": []
   },
   "outputs": [],
   "source": [
    "!cp -r ../../input/cocoapi/cocoapi ."
   ]
  },
  {
   "cell_type": "code",
   "execution_count": 5,
   "metadata": {
    "execution": {
     "iopub.execute_input": "2020-12-28T03:56:36.560140Z",
     "iopub.status.busy": "2020-12-28T03:56:36.559024Z",
     "iopub.status.idle": "2020-12-28T03:56:36.565632Z",
     "shell.execute_reply": "2020-12-28T03:56:36.564954Z"
    },
    "papermill": {
     "duration": 0.030334,
     "end_time": "2020-12-28T03:56:36.565749",
     "exception": false,
     "start_time": "2020-12-28T03:56:36.535415",
     "status": "completed"
    },
    "tags": []
   },
   "outputs": [
    {
     "name": "stdout",
     "output_type": "stream",
     "text": [
      "/kaggle/working/mmdetection/cocoapi/PythonAPI\n"
     ]
    }
   ],
   "source": [
    "cd cocoapi/PythonAPI"
   ]
  },
  {
   "cell_type": "code",
   "execution_count": 6,
   "metadata": {
    "execution": {
     "iopub.execute_input": "2020-12-28T03:56:36.615234Z",
     "iopub.status.busy": "2020-12-28T03:56:36.610443Z",
     "iopub.status.idle": "2020-12-28T03:56:44.312610Z",
     "shell.execute_reply": "2020-12-28T03:56:44.312010Z"
    },
    "papermill": {
     "duration": 7.726457,
     "end_time": "2020-12-28T03:56:44.312722",
     "exception": false,
     "start_time": "2020-12-28T03:56:36.586265",
     "status": "completed"
    },
    "tags": []
   },
   "outputs": [
    {
     "name": "stdout",
     "output_type": "stream",
     "text": [
      "python setup.py build_ext --inplace\r\n",
      "running build_ext\r\n",
      "cythoning pycocotools/_mask.pyx to pycocotools/_mask.c\r\n",
      "/opt/conda/lib/python3.7/site-packages/Cython/Compiler/Main.py:369: FutureWarning: Cython directive 'language_level' not set, using 2 for now (Py2). This will change in a later release! File: /kaggle/working/mmdetection/cocoapi/PythonAPI/pycocotools/_mask.pyx\r\n",
      "  tree = Parsing.p_module(s, pxd, full_module_name)\r\n",
      "building 'pycocotools._mask' extension\r\n",
      "creating build\r\n",
      "creating build/common\r\n",
      "creating build/temp.linux-x86_64-3.7\r\n",
      "creating build/temp.linux-x86_64-3.7/pycocotools\r\n",
      "gcc -pthread -B /opt/conda/compiler_compat -Wl,--sysroot=/ -Wsign-compare -DNDEBUG -g -fwrapv -O3 -Wall -Wstrict-prototypes -fPIC -I/opt/conda/lib/python3.7/site-packages/numpy/core/include -I../common -I/opt/conda/include/python3.7m -c ../common/maskApi.c -o build/temp.linux-x86_64-3.7/../common/maskApi.o -Wno-cpp -Wno-unused-function -std=c99\r\n",
      "\u001b[01m\u001b[K../common/maskApi.c:\u001b[m\u001b[K In function ‘\u001b[01m\u001b[KrleDecode\u001b[m\u001b[K’:\r\n",
      "\u001b[01m\u001b[K../common/maskApi.c:46:7:\u001b[m\u001b[K \u001b[01;35m\u001b[Kwarning: \u001b[m\u001b[Kthis ‘\u001b[01m\u001b[Kfor\u001b[m\u001b[K’ clause does not guard... [\u001b[01;35m\u001b[K-Wmisleading-indentation\u001b[m\u001b[K]\r\n",
      "       \u001b[01;35m\u001b[Kfor\u001b[m\u001b[K( k=0; k<R[i].cnts[j]; k++ ) *(M++)=v; v=!v; }}\r\n",
      "       \u001b[01;35m\u001b[K^~~\u001b[m\u001b[K\r\n",
      "\u001b[01m\u001b[K../common/maskApi.c:46:49:\u001b[m\u001b[K \u001b[01;36m\u001b[Knote: \u001b[m\u001b[K...this statement, but the latter is misleadingly indented as if it were guarded by the ‘\u001b[01m\u001b[Kfor\u001b[m\u001b[K’\r\n",
      "       for( k=0; k<R[i].cnts[j]; k++ ) *(M++)=v; \u001b[01;36m\u001b[Kv\u001b[m\u001b[K=!v; }}\r\n",
      "                                                 \u001b[01;36m\u001b[K^\u001b[m\u001b[K\r\n",
      "\u001b[01m\u001b[K../common/maskApi.c:\u001b[m\u001b[K In function ‘\u001b[01m\u001b[KrleFrPoly\u001b[m\u001b[K’:\r\n",
      "\u001b[01m\u001b[K../common/maskApi.c:166:3:\u001b[m\u001b[K \u001b[01;35m\u001b[Kwarning: \u001b[m\u001b[Kthis ‘\u001b[01m\u001b[Kfor\u001b[m\u001b[K’ clause does not guard... [\u001b[01;35m\u001b[K-Wmisleading-indentation\u001b[m\u001b[K]\r\n",
      "   \u001b[01;35m\u001b[Kfor\u001b[m\u001b[K(j=0; j<k; j++) x[j]=(int)(scale*xy[j*2+0]+.5); x[k]=x[0];\r\n",
      "   \u001b[01;35m\u001b[K^~~\u001b[m\u001b[K\r\n",
      "\u001b[01m\u001b[K../common/maskApi.c:166:54:\u001b[m\u001b[K \u001b[01;36m\u001b[Knote: \u001b[m\u001b[K...this statement, but the latter is misleadingly indented as if it were guarded by the ‘\u001b[01m\u001b[Kfor\u001b[m\u001b[K’\r\n",
      "   for(j=0; j<k; j++) x[j]=(int)(scale*xy[j*2+0]+.5); \u001b[01;36m\u001b[Kx\u001b[m\u001b[K[k]=x[0];\r\n",
      "                                                      \u001b[01;36m\u001b[K^\u001b[m\u001b[K\r\n",
      "\u001b[01m\u001b[K../common/maskApi.c:167:3:\u001b[m\u001b[K \u001b[01;35m\u001b[Kwarning: \u001b[m\u001b[Kthis ‘\u001b[01m\u001b[Kfor\u001b[m\u001b[K’ clause does not guard... [\u001b[01;35m\u001b[K-Wmisleading-indentation\u001b[m\u001b[K]\r\n",
      "   \u001b[01;35m\u001b[Kfor\u001b[m\u001b[K(j=0; j<k; j++) y[j]=(int)(scale*xy[j*2+1]+.5); y[k]=y[0];\r\n",
      "   \u001b[01;35m\u001b[K^~~\u001b[m\u001b[K\r\n",
      "\u001b[01m\u001b[K../common/maskApi.c:167:54:\u001b[m\u001b[K \u001b[01;36m\u001b[Knote: \u001b[m\u001b[K...this statement, but the latter is misleadingly indented as if it were guarded by the ‘\u001b[01m\u001b[Kfor\u001b[m\u001b[K’\r\n",
      "   for(j=0; j<k; j++) y[j]=(int)(scale*xy[j*2+1]+.5); \u001b[01;36m\u001b[Ky\u001b[m\u001b[K[k]=y[0];\r\n",
      "                                                      \u001b[01;36m\u001b[K^\u001b[m\u001b[K\r\n",
      "\u001b[01m\u001b[K../common/maskApi.c:\u001b[m\u001b[K In function ‘\u001b[01m\u001b[KrleToString\u001b[m\u001b[K’:\r\n",
      "\u001b[01m\u001b[K../common/maskApi.c:212:7:\u001b[m\u001b[K \u001b[01;35m\u001b[Kwarning: \u001b[m\u001b[Kthis ‘\u001b[01m\u001b[Kif\u001b[m\u001b[K’ clause does not guard... [\u001b[01;35m\u001b[K-Wmisleading-indentation\u001b[m\u001b[K]\r\n",
      "       \u001b[01;35m\u001b[Kif\u001b[m\u001b[K(more) c |= 0x20; c+=48; s[p++]=c;\r\n",
      "       \u001b[01;35m\u001b[K^~\u001b[m\u001b[K\r\n",
      "\u001b[01m\u001b[K../common/maskApi.c:212:27:\u001b[m\u001b[K \u001b[01;36m\u001b[Knote: \u001b[m\u001b[K...this statement, but the latter is misleadingly indented as if it were guarded by the ‘\u001b[01m\u001b[Kif\u001b[m\u001b[K’\r\n",
      "       if(more) c |= 0x20; \u001b[01;36m\u001b[Kc\u001b[m\u001b[K+=48; s[p++]=c;\r\n",
      "                           \u001b[01;36m\u001b[K^\u001b[m\u001b[K\r\n",
      "\u001b[01m\u001b[K../common/maskApi.c:\u001b[m\u001b[K In function ‘\u001b[01m\u001b[KrleFrString\u001b[m\u001b[K’:\r\n",
      "\u001b[01m\u001b[K../common/maskApi.c:220:3:\u001b[m\u001b[K \u001b[01;35m\u001b[Kwarning: \u001b[m\u001b[Kthis ‘\u001b[01m\u001b[Kwhile\u001b[m\u001b[K’ clause does not guard... [\u001b[01;35m\u001b[K-Wmisleading-indentation\u001b[m\u001b[K]\r\n",
      "   \u001b[01;35m\u001b[Kwhile\u001b[m\u001b[K( s[m] ) m++; cnts=malloc(sizeof(uint)*m); m=0;\r\n",
      "   \u001b[01;35m\u001b[K^~~~~\u001b[m\u001b[K\r\n",
      "\u001b[01m\u001b[K../common/maskApi.c:220:22:\u001b[m\u001b[K \u001b[01;36m\u001b[Knote: \u001b[m\u001b[K...this statement, but the latter is misleadingly indented as if it were guarded by the ‘\u001b[01m\u001b[Kwhile\u001b[m\u001b[K’\r\n",
      "   while( s[m] ) m++; \u001b[01;36m\u001b[Kcnts\u001b[m\u001b[K=malloc(sizeof(uint)*m); m=0;\r\n",
      "                      \u001b[01;36m\u001b[K^~~~\u001b[m\u001b[K\r\n",
      "\u001b[01m\u001b[K../common/maskApi.c:228:5:\u001b[m\u001b[K \u001b[01;35m\u001b[Kwarning: \u001b[m\u001b[Kthis ‘\u001b[01m\u001b[Kif\u001b[m\u001b[K’ clause does not guard... [\u001b[01;35m\u001b[K-Wmisleading-indentation\u001b[m\u001b[K]\r\n",
      "     \u001b[01;35m\u001b[Kif\u001b[m\u001b[K(m>2) x+=(long) cnts[m-2]; cnts[m++]=(uint) x;\r\n",
      "     \u001b[01;35m\u001b[K^~\u001b[m\u001b[K\r\n",
      "\u001b[01m\u001b[K../common/maskApi.c:228:34:\u001b[m\u001b[K \u001b[01;36m\u001b[Knote: \u001b[m\u001b[K...this statement, but the latter is misleadingly indented as if it were guarded by the ‘\u001b[01m\u001b[Kif\u001b[m\u001b[K’\r\n",
      "     if(m>2) x+=(long) cnts[m-2]; \u001b[01;36m\u001b[Kcnts\u001b[m\u001b[K[m++]=(uint) x;\r\n",
      "                                  \u001b[01;36m\u001b[K^~~~\u001b[m\u001b[K\r\n",
      "\u001b[01m\u001b[K../common/maskApi.c:\u001b[m\u001b[K In function ‘\u001b[01m\u001b[KrleToBbox\u001b[m\u001b[K’:\r\n",
      "\u001b[01m\u001b[K../common/maskApi.c:141:31:\u001b[m\u001b[K \u001b[01;35m\u001b[Kwarning: \u001b[m\u001b[K‘\u001b[01m\u001b[Kxp\u001b[m\u001b[K’ may be used uninitialized in this function [\u001b[01;35m\u001b[K-Wmaybe-uninitialized\u001b[m\u001b[K]\r\n",
      "       if(j%2==0) xp=x; else if\u001b[01;35m\u001b[K(\u001b[m\u001b[Kxp<x) { ys=0; ye=h-1; }\r\n",
      "                               \u001b[01;35m\u001b[K^\u001b[m\u001b[K\r\n",
      "gcc -pthread -B /opt/conda/compiler_compat -Wl,--sysroot=/ -Wsign-compare -DNDEBUG -g -fwrapv -O3 -Wall -Wstrict-prototypes -fPIC -I/opt/conda/lib/python3.7/site-packages/numpy/core/include -I../common -I/opt/conda/include/python3.7m -c pycocotools/_mask.c -o build/temp.linux-x86_64-3.7/pycocotools/_mask.o -Wno-cpp -Wno-unused-function -std=c99\r\n",
      "creating build/lib.linux-x86_64-3.7\r\n",
      "creating build/lib.linux-x86_64-3.7/pycocotools\r\n",
      "gcc -pthread -shared -B /opt/conda/compiler_compat -L/opt/conda/lib -Wl,-rpath=/opt/conda/lib -Wl,--no-as-needed -Wl,--sysroot=/ build/temp.linux-x86_64-3.7/../common/maskApi.o build/temp.linux-x86_64-3.7/pycocotools/_mask.o -o build/lib.linux-x86_64-3.7/pycocotools/_mask.cpython-37m-x86_64-linux-gnu.so\r\n",
      "copying build/lib.linux-x86_64-3.7/pycocotools/_mask.cpython-37m-x86_64-linux-gnu.so -> pycocotools\r\n",
      "rm -rf build\r\n"
     ]
    }
   ],
   "source": [
    "!make"
   ]
  },
  {
   "cell_type": "code",
   "execution_count": 7,
   "metadata": {
    "execution": {
     "iopub.execute_input": "2020-12-28T03:56:44.369171Z",
     "iopub.status.busy": "2020-12-28T03:56:44.368289Z",
     "iopub.status.idle": "2020-12-28T03:56:50.827849Z",
     "shell.execute_reply": "2020-12-28T03:56:50.827286Z"
    },
    "papermill": {
     "duration": 6.489935,
     "end_time": "2020-12-28T03:56:50.827957",
     "exception": false,
     "start_time": "2020-12-28T03:56:44.338022",
     "status": "completed"
    },
    "tags": []
   },
   "outputs": [
    {
     "name": "stdout",
     "output_type": "stream",
     "text": [
      "# install pycocotools to the Python site-packages\r\n",
      "python setup.py build_ext install\r\n",
      "running build_ext\r\n",
      "skipping 'pycocotools/_mask.c' Cython extension (up-to-date)\r\n",
      "building 'pycocotools._mask' extension\r\n",
      "creating build\r\n",
      "creating build/common\r\n",
      "creating build/temp.linux-x86_64-3.7\r\n",
      "creating build/temp.linux-x86_64-3.7/pycocotools\r\n",
      "gcc -pthread -B /opt/conda/compiler_compat -Wl,--sysroot=/ -Wsign-compare -DNDEBUG -g -fwrapv -O3 -Wall -Wstrict-prototypes -fPIC -I/opt/conda/lib/python3.7/site-packages/numpy/core/include -I../common -I/opt/conda/include/python3.7m -c ../common/maskApi.c -o build/temp.linux-x86_64-3.7/../common/maskApi.o -Wno-cpp -Wno-unused-function -std=c99\r\n",
      "\u001b[01m\u001b[K../common/maskApi.c:\u001b[m\u001b[K In function ‘\u001b[01m\u001b[KrleDecode\u001b[m\u001b[K’:\r\n",
      "\u001b[01m\u001b[K../common/maskApi.c:46:7:\u001b[m\u001b[K \u001b[01;35m\u001b[Kwarning: \u001b[m\u001b[Kthis ‘\u001b[01m\u001b[Kfor\u001b[m\u001b[K’ clause does not guard... [\u001b[01;35m\u001b[K-Wmisleading-indentation\u001b[m\u001b[K]\r\n",
      "       \u001b[01;35m\u001b[Kfor\u001b[m\u001b[K( k=0; k<R[i].cnts[j]; k++ ) *(M++)=v; v=!v; }}\r\n",
      "       \u001b[01;35m\u001b[K^~~\u001b[m\u001b[K\r\n",
      "\u001b[01m\u001b[K../common/maskApi.c:46:49:\u001b[m\u001b[K \u001b[01;36m\u001b[Knote: \u001b[m\u001b[K...this statement, but the latter is misleadingly indented as if it were guarded by the ‘\u001b[01m\u001b[Kfor\u001b[m\u001b[K’\r\n",
      "       for( k=0; k<R[i].cnts[j]; k++ ) *(M++)=v; \u001b[01;36m\u001b[Kv\u001b[m\u001b[K=!v; }}\r\n",
      "                                                 \u001b[01;36m\u001b[K^\u001b[m\u001b[K\r\n",
      "\u001b[01m\u001b[K../common/maskApi.c:\u001b[m\u001b[K In function ‘\u001b[01m\u001b[KrleFrPoly\u001b[m\u001b[K’:\r\n",
      "\u001b[01m\u001b[K../common/maskApi.c:166:3:\u001b[m\u001b[K \u001b[01;35m\u001b[Kwarning: \u001b[m\u001b[Kthis ‘\u001b[01m\u001b[Kfor\u001b[m\u001b[K’ clause does not guard... [\u001b[01;35m\u001b[K-Wmisleading-indentation\u001b[m\u001b[K]\r\n",
      "   \u001b[01;35m\u001b[Kfor\u001b[m\u001b[K(j=0; j<k; j++) x[j]=(int)(scale*xy[j*2+0]+.5); x[k]=x[0];\r\n",
      "   \u001b[01;35m\u001b[K^~~\u001b[m\u001b[K\r\n",
      "\u001b[01m\u001b[K../common/maskApi.c:166:54:\u001b[m\u001b[K \u001b[01;36m\u001b[Knote: \u001b[m\u001b[K...this statement, but the latter is misleadingly indented as if it were guarded by the ‘\u001b[01m\u001b[Kfor\u001b[m\u001b[K’\r\n",
      "   for(j=0; j<k; j++) x[j]=(int)(scale*xy[j*2+0]+.5); \u001b[01;36m\u001b[Kx\u001b[m\u001b[K[k]=x[0];\r\n",
      "                                                      \u001b[01;36m\u001b[K^\u001b[m\u001b[K\r\n",
      "\u001b[01m\u001b[K../common/maskApi.c:167:3:\u001b[m\u001b[K \u001b[01;35m\u001b[Kwarning: \u001b[m\u001b[Kthis ‘\u001b[01m\u001b[Kfor\u001b[m\u001b[K’ clause does not guard... [\u001b[01;35m\u001b[K-Wmisleading-indentation\u001b[m\u001b[K]\r\n",
      "   \u001b[01;35m\u001b[Kfor\u001b[m\u001b[K(j=0; j<k; j++) y[j]=(int)(scale*xy[j*2+1]+.5); y[k]=y[0];\r\n",
      "   \u001b[01;35m\u001b[K^~~\u001b[m\u001b[K\r\n",
      "\u001b[01m\u001b[K../common/maskApi.c:167:54:\u001b[m\u001b[K \u001b[01;36m\u001b[Knote: \u001b[m\u001b[K...this statement, but the latter is misleadingly indented as if it were guarded by the ‘\u001b[01m\u001b[Kfor\u001b[m\u001b[K’\r\n",
      "   for(j=0; j<k; j++) y[j]=(int)(scale*xy[j*2+1]+.5); \u001b[01;36m\u001b[Ky\u001b[m\u001b[K[k]=y[0];\r\n",
      "                                                      \u001b[01;36m\u001b[K^\u001b[m\u001b[K\r\n",
      "\u001b[01m\u001b[K../common/maskApi.c:\u001b[m\u001b[K In function ‘\u001b[01m\u001b[KrleToString\u001b[m\u001b[K’:\r\n",
      "\u001b[01m\u001b[K../common/maskApi.c:212:7:\u001b[m\u001b[K \u001b[01;35m\u001b[Kwarning: \u001b[m\u001b[Kthis ‘\u001b[01m\u001b[Kif\u001b[m\u001b[K’ clause does not guard... [\u001b[01;35m\u001b[K-Wmisleading-indentation\u001b[m\u001b[K]\r\n",
      "       \u001b[01;35m\u001b[Kif\u001b[m\u001b[K(more) c |= 0x20; c+=48; s[p++]=c;\r\n",
      "       \u001b[01;35m\u001b[K^~\u001b[m\u001b[K\r\n",
      "\u001b[01m\u001b[K../common/maskApi.c:212:27:\u001b[m\u001b[K \u001b[01;36m\u001b[Knote: \u001b[m\u001b[K...this statement, but the latter is misleadingly indented as if it were guarded by the ‘\u001b[01m\u001b[Kif\u001b[m\u001b[K’\r\n",
      "       if(more) c |= 0x20; \u001b[01;36m\u001b[Kc\u001b[m\u001b[K+=48; s[p++]=c;\r\n",
      "                           \u001b[01;36m\u001b[K^\u001b[m\u001b[K\r\n",
      "\u001b[01m\u001b[K../common/maskApi.c:\u001b[m\u001b[K In function ‘\u001b[01m\u001b[KrleFrString\u001b[m\u001b[K’:\r\n",
      "\u001b[01m\u001b[K../common/maskApi.c:220:3:\u001b[m\u001b[K \u001b[01;35m\u001b[Kwarning: \u001b[m\u001b[Kthis ‘\u001b[01m\u001b[Kwhile\u001b[m\u001b[K’ clause does not guard... [\u001b[01;35m\u001b[K-Wmisleading-indentation\u001b[m\u001b[K]\r\n",
      "   \u001b[01;35m\u001b[Kwhile\u001b[m\u001b[K( s[m] ) m++; cnts=malloc(sizeof(uint)*m); m=0;\r\n",
      "   \u001b[01;35m\u001b[K^~~~~\u001b[m\u001b[K\r\n",
      "\u001b[01m\u001b[K../common/maskApi.c:220:22:\u001b[m\u001b[K \u001b[01;36m\u001b[Knote: \u001b[m\u001b[K...this statement, but the latter is misleadingly indented as if it were guarded by the ‘\u001b[01m\u001b[Kwhile\u001b[m\u001b[K’\r\n",
      "   while( s[m] ) m++; \u001b[01;36m\u001b[Kcnts\u001b[m\u001b[K=malloc(sizeof(uint)*m); m=0;\r\n",
      "                      \u001b[01;36m\u001b[K^~~~\u001b[m\u001b[K\r\n",
      "\u001b[01m\u001b[K../common/maskApi.c:228:5:\u001b[m\u001b[K \u001b[01;35m\u001b[Kwarning: \u001b[m\u001b[Kthis ‘\u001b[01m\u001b[Kif\u001b[m\u001b[K’ clause does not guard... [\u001b[01;35m\u001b[K-Wmisleading-indentation\u001b[m\u001b[K]\r\n",
      "     \u001b[01;35m\u001b[Kif\u001b[m\u001b[K(m>2) x+=(long) cnts[m-2]; cnts[m++]=(uint) x;\r\n",
      "     \u001b[01;35m\u001b[K^~\u001b[m\u001b[K\r\n",
      "\u001b[01m\u001b[K../common/maskApi.c:228:34:\u001b[m\u001b[K \u001b[01;36m\u001b[Knote: \u001b[m\u001b[K...this statement, but the latter is misleadingly indented as if it were guarded by the ‘\u001b[01m\u001b[Kif\u001b[m\u001b[K’\r\n",
      "     if(m>2) x+=(long) cnts[m-2]; \u001b[01;36m\u001b[Kcnts\u001b[m\u001b[K[m++]=(uint) x;\r\n",
      "                                  \u001b[01;36m\u001b[K^~~~\u001b[m\u001b[K\r\n",
      "\u001b[01m\u001b[K../common/maskApi.c:\u001b[m\u001b[K In function ‘\u001b[01m\u001b[KrleToBbox\u001b[m\u001b[K’:\r\n",
      "\u001b[01m\u001b[K../common/maskApi.c:141:31:\u001b[m\u001b[K \u001b[01;35m\u001b[Kwarning: \u001b[m\u001b[K‘\u001b[01m\u001b[Kxp\u001b[m\u001b[K’ may be used uninitialized in this function [\u001b[01;35m\u001b[K-Wmaybe-uninitialized\u001b[m\u001b[K]\r\n",
      "       if(j%2==0) xp=x; else if\u001b[01;35m\u001b[K(\u001b[m\u001b[Kxp<x) { ys=0; ye=h-1; }\r\n",
      "                               \u001b[01;35m\u001b[K^\u001b[m\u001b[K\r\n",
      "gcc -pthread -B /opt/conda/compiler_compat -Wl,--sysroot=/ -Wsign-compare -DNDEBUG -g -fwrapv -O3 -Wall -Wstrict-prototypes -fPIC -I/opt/conda/lib/python3.7/site-packages/numpy/core/include -I../common -I/opt/conda/include/python3.7m -c pycocotools/_mask.c -o build/temp.linux-x86_64-3.7/pycocotools/_mask.o -Wno-cpp -Wno-unused-function -std=c99\r\n",
      "creating build/lib.linux-x86_64-3.7\r\n",
      "creating build/lib.linux-x86_64-3.7/pycocotools\r\n",
      "gcc -pthread -shared -B /opt/conda/compiler_compat -L/opt/conda/lib -Wl,-rpath=/opt/conda/lib -Wl,--no-as-needed -Wl,--sysroot=/ build/temp.linux-x86_64-3.7/../common/maskApi.o build/temp.linux-x86_64-3.7/pycocotools/_mask.o -o build/lib.linux-x86_64-3.7/pycocotools/_mask.cpython-37m-x86_64-linux-gnu.so\r\n",
      "running install\r\n",
      "running bdist_egg\r\n",
      "running egg_info\r\n",
      "creating pycocotools.egg-info\r\n",
      "writing pycocotools.egg-info/PKG-INFO\r\n",
      "writing dependency_links to pycocotools.egg-info/dependency_links.txt\r\n",
      "writing requirements to pycocotools.egg-info/requires.txt\r\n",
      "writing top-level names to pycocotools.egg-info/top_level.txt\r\n",
      "writing manifest file 'pycocotools.egg-info/SOURCES.txt'\r\n",
      "writing manifest file 'pycocotools.egg-info/SOURCES.txt'\r\n",
      "installing library code to build/bdist.linux-x86_64/egg\r\n",
      "running install_lib\r\n",
      "running build_py\r\n",
      "copying pycocotools/mask.py -> build/lib.linux-x86_64-3.7/pycocotools\r\n",
      "copying pycocotools/cocoeval.py -> build/lib.linux-x86_64-3.7/pycocotools\r\n",
      "copying pycocotools/__init__.py -> build/lib.linux-x86_64-3.7/pycocotools\r\n",
      "copying pycocotools/coco.py -> build/lib.linux-x86_64-3.7/pycocotools\r\n",
      "creating build/bdist.linux-x86_64\r\n",
      "creating build/bdist.linux-x86_64/egg\r\n",
      "creating build/bdist.linux-x86_64/egg/pycocotools\r\n",
      "copying build/lib.linux-x86_64-3.7/pycocotools/mask.py -> build/bdist.linux-x86_64/egg/pycocotools\r\n",
      "copying build/lib.linux-x86_64-3.7/pycocotools/cocoeval.py -> build/bdist.linux-x86_64/egg/pycocotools\r\n",
      "copying build/lib.linux-x86_64-3.7/pycocotools/_mask.cpython-37m-x86_64-linux-gnu.so -> build/bdist.linux-x86_64/egg/pycocotools\r\n",
      "copying build/lib.linux-x86_64-3.7/pycocotools/__init__.py -> build/bdist.linux-x86_64/egg/pycocotools\r\n",
      "copying build/lib.linux-x86_64-3.7/pycocotools/coco.py -> build/bdist.linux-x86_64/egg/pycocotools\r\n",
      "byte-compiling build/bdist.linux-x86_64/egg/pycocotools/mask.py to mask.cpython-37.pyc\r\n",
      "byte-compiling build/bdist.linux-x86_64/egg/pycocotools/cocoeval.py to cocoeval.cpython-37.pyc\r\n",
      "byte-compiling build/bdist.linux-x86_64/egg/pycocotools/__init__.py to __init__.cpython-37.pyc\r\n",
      "byte-compiling build/bdist.linux-x86_64/egg/pycocotools/coco.py to coco.cpython-37.pyc\r\n",
      "creating stub loader for pycocotools/_mask.cpython-37m-x86_64-linux-gnu.so\r\n",
      "byte-compiling build/bdist.linux-x86_64/egg/pycocotools/_mask.py to _mask.cpython-37.pyc\r\n",
      "creating build/bdist.linux-x86_64/egg/EGG-INFO\r\n",
      "copying pycocotools.egg-info/PKG-INFO -> build/bdist.linux-x86_64/egg/EGG-INFO\r\n",
      "copying pycocotools.egg-info/SOURCES.txt -> build/bdist.linux-x86_64/egg/EGG-INFO\r\n",
      "copying pycocotools.egg-info/dependency_links.txt -> build/bdist.linux-x86_64/egg/EGG-INFO\r\n",
      "copying pycocotools.egg-info/requires.txt -> build/bdist.linux-x86_64/egg/EGG-INFO\r\n",
      "copying pycocotools.egg-info/top_level.txt -> build/bdist.linux-x86_64/egg/EGG-INFO\r\n",
      "writing build/bdist.linux-x86_64/egg/EGG-INFO/native_libs.txt\r\n",
      "zip_safe flag not set; analyzing archive contents...\r\n",
      "pycocotools.__pycache__._mask.cpython-37: module references __file__\r\n",
      "creating dist\r\n",
      "creating 'dist/pycocotools-2.0-py3.7-linux-x86_64.egg' and adding 'build/bdist.linux-x86_64/egg' to it\r\n",
      "removing 'build/bdist.linux-x86_64/egg' (and everything under it)\r\n",
      "Processing pycocotools-2.0-py3.7-linux-x86_64.egg\r\n",
      "creating /opt/conda/lib/python3.7/site-packages/pycocotools-2.0-py3.7-linux-x86_64.egg\r\n",
      "Extracting pycocotools-2.0-py3.7-linux-x86_64.egg to /opt/conda/lib/python3.7/site-packages\r\n",
      "Adding pycocotools 2.0 to easy-install.pth file\r\n",
      "\r\n",
      "Installed /opt/conda/lib/python3.7/site-packages/pycocotools-2.0-py3.7-linux-x86_64.egg\r\n",
      "Processing dependencies for pycocotools==2.0\r\n",
      "Searching for matplotlib==3.2.1\r\n",
      "Best match: matplotlib 3.2.1\r\n",
      "Adding matplotlib 3.2.1 to easy-install.pth file\r\n",
      "\r\n",
      "Using /opt/conda/lib/python3.7/site-packages\r\n",
      "Searching for Cython==0.29.21\r\n",
      "Best match: Cython 0.29.21\r\n",
      "Adding Cython 0.29.21 to easy-install.pth file\r\n",
      "Installing cygdb script to /opt/conda/bin\r\n",
      "Installing cython script to /opt/conda/bin\r\n",
      "Installing cythonize script to /opt/conda/bin\r\n",
      "\r\n",
      "Using /opt/conda/lib/python3.7/site-packages\r\n",
      "Searching for setuptools==46.1.3.post20200325\r\n",
      "Best match: setuptools 46.1.3.post20200325\r\n",
      "Adding setuptools 46.1.3.post20200325 to easy-install.pth file\r\n",
      "Installing easy_install script to /opt/conda/bin\r\n",
      "\r\n",
      "Using /opt/conda/lib/python3.7/site-packages\r\n",
      "Searching for pyparsing==2.4.7\r\n",
      "Best match: pyparsing 2.4.7\r\n",
      "Adding pyparsing 2.4.7 to easy-install.pth file\r\n",
      "\r\n",
      "Using /opt/conda/lib/python3.7/site-packages\r\n",
      "Searching for numpy==1.18.5\r\n",
      "Best match: numpy 1.18.5\r\n",
      "Adding numpy 1.18.5 to easy-install.pth file\r\n",
      "Installing f2py script to /opt/conda/bin\r\n",
      "Installing f2py3 script to /opt/conda/bin\r\n",
      "Installing f2py3.7 script to /opt/conda/bin\r\n",
      "\r\n",
      "Using /opt/conda/lib/python3.7/site-packages\r\n",
      "Searching for python-dateutil==2.8.1\r\n",
      "Best match: python-dateutil 2.8.1\r\n",
      "Adding python-dateutil 2.8.1 to easy-install.pth file\r\n",
      "\r\n",
      "Using /opt/conda/lib/python3.7/site-packages\r\n",
      "Searching for kiwisolver==1.2.0\r\n",
      "Best match: kiwisolver 1.2.0\r\n",
      "Adding kiwisolver 1.2.0 to easy-install.pth file\r\n",
      "\r\n",
      "Using /opt/conda/lib/python3.7/site-packages\r\n",
      "Searching for cycler==0.10.0\r\n",
      "Best match: cycler 0.10.0\r\n",
      "Adding cycler 0.10.0 to easy-install.pth file\r\n",
      "\r\n",
      "Using /opt/conda/lib/python3.7/site-packages\r\n",
      "Searching for six==1.14.0\r\n",
      "Best match: six 1.14.0\r\n",
      "Adding six 1.14.0 to easy-install.pth file\r\n",
      "\r\n",
      "Using /opt/conda/lib/python3.7/site-packages\r\n",
      "Finished processing dependencies for pycocotools==2.0\r\n",
      "rm -rf build\r\n"
     ]
    }
   ],
   "source": [
    "!make install"
   ]
  },
  {
   "cell_type": "code",
   "execution_count": 8,
   "metadata": {
    "execution": {
     "iopub.execute_input": "2020-12-28T03:56:50.981904Z",
     "iopub.status.busy": "2020-12-28T03:56:50.980685Z",
     "iopub.status.idle": "2020-12-28T03:56:57.850662Z",
     "shell.execute_reply": "2020-12-28T03:56:57.849981Z"
    },
    "papermill": {
     "duration": 6.993404,
     "end_time": "2020-12-28T03:56:57.850797",
     "exception": false,
     "start_time": "2020-12-28T03:56:50.857393",
     "status": "completed"
    },
    "tags": []
   },
   "outputs": [
    {
     "name": "stdout",
     "output_type": "stream",
     "text": [
      "running install\r\n",
      "running bdist_egg\r\n",
      "running egg_info\r\n",
      "writing pycocotools.egg-info/PKG-INFO\r\n",
      "writing dependency_links to pycocotools.egg-info/dependency_links.txt\r\n",
      "writing requirements to pycocotools.egg-info/requires.txt\r\n",
      "writing top-level names to pycocotools.egg-info/top_level.txt\r\n",
      "writing manifest file 'pycocotools.egg-info/SOURCES.txt'\r\n",
      "installing library code to build/bdist.linux-x86_64/egg\r\n",
      "running install_lib\r\n",
      "running build_py\r\n",
      "creating build\r\n",
      "creating build/lib.linux-x86_64-3.7\r\n",
      "creating build/lib.linux-x86_64-3.7/pycocotools\r\n",
      "copying pycocotools/mask.py -> build/lib.linux-x86_64-3.7/pycocotools\r\n",
      "copying pycocotools/cocoeval.py -> build/lib.linux-x86_64-3.7/pycocotools\r\n",
      "copying pycocotools/__init__.py -> build/lib.linux-x86_64-3.7/pycocotools\r\n",
      "copying pycocotools/coco.py -> build/lib.linux-x86_64-3.7/pycocotools\r\n",
      "running build_ext\r\n",
      "skipping 'pycocotools/_mask.c' Cython extension (up-to-date)\r\n",
      "building 'pycocotools._mask' extension\r\n",
      "creating build/common\r\n",
      "creating build/temp.linux-x86_64-3.7\r\n",
      "creating build/temp.linux-x86_64-3.7/pycocotools\r\n",
      "gcc -pthread -B /opt/conda/compiler_compat -Wl,--sysroot=/ -Wsign-compare -DNDEBUG -g -fwrapv -O3 -Wall -Wstrict-prototypes -fPIC -I/opt/conda/lib/python3.7/site-packages/numpy/core/include -I../common -I/opt/conda/include/python3.7m -c ../common/maskApi.c -o build/temp.linux-x86_64-3.7/../common/maskApi.o -Wno-cpp -Wno-unused-function -std=c99\r\n",
      "\u001b[01m\u001b[K../common/maskApi.c:\u001b[m\u001b[K In function ‘\u001b[01m\u001b[KrleDecode\u001b[m\u001b[K’:\r\n",
      "\u001b[01m\u001b[K../common/maskApi.c:46:7:\u001b[m\u001b[K \u001b[01;35m\u001b[Kwarning: \u001b[m\u001b[Kthis ‘\u001b[01m\u001b[Kfor\u001b[m\u001b[K’ clause does not guard... [\u001b[01;35m\u001b[K-Wmisleading-indentation\u001b[m\u001b[K]\r\n",
      "       \u001b[01;35m\u001b[Kfor\u001b[m\u001b[K( k=0; k<R[i].cnts[j]; k++ ) *(M++)=v; v=!v; }}\r\n",
      "       \u001b[01;35m\u001b[K^~~\u001b[m\u001b[K\r\n",
      "\u001b[01m\u001b[K../common/maskApi.c:46:49:\u001b[m\u001b[K \u001b[01;36m\u001b[Knote: \u001b[m\u001b[K...this statement, but the latter is misleadingly indented as if it were guarded by the ‘\u001b[01m\u001b[Kfor\u001b[m\u001b[K’\r\n",
      "       for( k=0; k<R[i].cnts[j]; k++ ) *(M++)=v; \u001b[01;36m\u001b[Kv\u001b[m\u001b[K=!v; }}\r\n",
      "                                                 \u001b[01;36m\u001b[K^\u001b[m\u001b[K\r\n",
      "\u001b[01m\u001b[K../common/maskApi.c:\u001b[m\u001b[K In function ‘\u001b[01m\u001b[KrleFrPoly\u001b[m\u001b[K’:\r\n",
      "\u001b[01m\u001b[K../common/maskApi.c:166:3:\u001b[m\u001b[K \u001b[01;35m\u001b[Kwarning: \u001b[m\u001b[Kthis ‘\u001b[01m\u001b[Kfor\u001b[m\u001b[K’ clause does not guard... [\u001b[01;35m\u001b[K-Wmisleading-indentation\u001b[m\u001b[K]\r\n",
      "   \u001b[01;35m\u001b[Kfor\u001b[m\u001b[K(j=0; j<k; j++) x[j]=(int)(scale*xy[j*2+0]+.5); x[k]=x[0];\r\n",
      "   \u001b[01;35m\u001b[K^~~\u001b[m\u001b[K\r\n",
      "\u001b[01m\u001b[K../common/maskApi.c:166:54:\u001b[m\u001b[K \u001b[01;36m\u001b[Knote: \u001b[m\u001b[K...this statement, but the latter is misleadingly indented as if it were guarded by the ‘\u001b[01m\u001b[Kfor\u001b[m\u001b[K’\r\n",
      "   for(j=0; j<k; j++) x[j]=(int)(scale*xy[j*2+0]+.5); \u001b[01;36m\u001b[Kx\u001b[m\u001b[K[k]=x[0];\r\n",
      "                                                      \u001b[01;36m\u001b[K^\u001b[m\u001b[K\r\n",
      "\u001b[01m\u001b[K../common/maskApi.c:167:3:\u001b[m\u001b[K \u001b[01;35m\u001b[Kwarning: \u001b[m\u001b[Kthis ‘\u001b[01m\u001b[Kfor\u001b[m\u001b[K’ clause does not guard... [\u001b[01;35m\u001b[K-Wmisleading-indentation\u001b[m\u001b[K]\r\n",
      "   \u001b[01;35m\u001b[Kfor\u001b[m\u001b[K(j=0; j<k; j++) y[j]=(int)(scale*xy[j*2+1]+.5); y[k]=y[0];\r\n",
      "   \u001b[01;35m\u001b[K^~~\u001b[m\u001b[K\r\n",
      "\u001b[01m\u001b[K../common/maskApi.c:167:54:\u001b[m\u001b[K \u001b[01;36m\u001b[Knote: \u001b[m\u001b[K...this statement, but the latter is misleadingly indented as if it were guarded by the ‘\u001b[01m\u001b[Kfor\u001b[m\u001b[K’\r\n",
      "   for(j=0; j<k; j++) y[j]=(int)(scale*xy[j*2+1]+.5); \u001b[01;36m\u001b[Ky\u001b[m\u001b[K[k]=y[0];\r\n",
      "                                                      \u001b[01;36m\u001b[K^\u001b[m\u001b[K\r\n",
      "\u001b[01m\u001b[K../common/maskApi.c:\u001b[m\u001b[K In function ‘\u001b[01m\u001b[KrleToString\u001b[m\u001b[K’:\r\n",
      "\u001b[01m\u001b[K../common/maskApi.c:212:7:\u001b[m\u001b[K \u001b[01;35m\u001b[Kwarning: \u001b[m\u001b[Kthis ‘\u001b[01m\u001b[Kif\u001b[m\u001b[K’ clause does not guard... [\u001b[01;35m\u001b[K-Wmisleading-indentation\u001b[m\u001b[K]\r\n",
      "       \u001b[01;35m\u001b[Kif\u001b[m\u001b[K(more) c |= 0x20; c+=48; s[p++]=c;\r\n",
      "       \u001b[01;35m\u001b[K^~\u001b[m\u001b[K\r\n",
      "\u001b[01m\u001b[K../common/maskApi.c:212:27:\u001b[m\u001b[K \u001b[01;36m\u001b[Knote: \u001b[m\u001b[K...this statement, but the latter is misleadingly indented as if it were guarded by the ‘\u001b[01m\u001b[Kif\u001b[m\u001b[K’\r\n",
      "       if(more) c |= 0x20; \u001b[01;36m\u001b[Kc\u001b[m\u001b[K+=48; s[p++]=c;\r\n",
      "                           \u001b[01;36m\u001b[K^\u001b[m\u001b[K\r\n",
      "\u001b[01m\u001b[K../common/maskApi.c:\u001b[m\u001b[K In function ‘\u001b[01m\u001b[KrleFrString\u001b[m\u001b[K’:\r\n",
      "\u001b[01m\u001b[K../common/maskApi.c:220:3:\u001b[m\u001b[K \u001b[01;35m\u001b[Kwarning: \u001b[m\u001b[Kthis ‘\u001b[01m\u001b[Kwhile\u001b[m\u001b[K’ clause does not guard... [\u001b[01;35m\u001b[K-Wmisleading-indentation\u001b[m\u001b[K]\r\n",
      "   \u001b[01;35m\u001b[Kwhile\u001b[m\u001b[K( s[m] ) m++; cnts=malloc(sizeof(uint)*m); m=0;\r\n",
      "   \u001b[01;35m\u001b[K^~~~~\u001b[m\u001b[K\r\n",
      "\u001b[01m\u001b[K../common/maskApi.c:220:22:\u001b[m\u001b[K \u001b[01;36m\u001b[Knote: \u001b[m\u001b[K...this statement, but the latter is misleadingly indented as if it were guarded by the ‘\u001b[01m\u001b[Kwhile\u001b[m\u001b[K’\r\n",
      "   while( s[m] ) m++; \u001b[01;36m\u001b[Kcnts\u001b[m\u001b[K=malloc(sizeof(uint)*m); m=0;\r\n",
      "                      \u001b[01;36m\u001b[K^~~~\u001b[m\u001b[K\r\n",
      "\u001b[01m\u001b[K../common/maskApi.c:228:5:\u001b[m\u001b[K \u001b[01;35m\u001b[Kwarning: \u001b[m\u001b[Kthis ‘\u001b[01m\u001b[Kif\u001b[m\u001b[K’ clause does not guard... [\u001b[01;35m\u001b[K-Wmisleading-indentation\u001b[m\u001b[K]\r\n",
      "     \u001b[01;35m\u001b[Kif\u001b[m\u001b[K(m>2) x+=(long) cnts[m-2]; cnts[m++]=(uint) x;\r\n",
      "     \u001b[01;35m\u001b[K^~\u001b[m\u001b[K\r\n",
      "\u001b[01m\u001b[K../common/maskApi.c:228:34:\u001b[m\u001b[K \u001b[01;36m\u001b[Knote: \u001b[m\u001b[K...this statement, but the latter is misleadingly indented as if it were guarded by the ‘\u001b[01m\u001b[Kif\u001b[m\u001b[K’\r\n",
      "     if(m>2) x+=(long) cnts[m-2]; \u001b[01;36m\u001b[Kcnts\u001b[m\u001b[K[m++]=(uint) x;\r\n",
      "                                  \u001b[01;36m\u001b[K^~~~\u001b[m\u001b[K\r\n",
      "\u001b[01m\u001b[K../common/maskApi.c:\u001b[m\u001b[K In function ‘\u001b[01m\u001b[KrleToBbox\u001b[m\u001b[K’:\r\n",
      "\u001b[01m\u001b[K../common/maskApi.c:141:31:\u001b[m\u001b[K \u001b[01;35m\u001b[Kwarning: \u001b[m\u001b[K‘\u001b[01m\u001b[Kxp\u001b[m\u001b[K’ may be used uninitialized in this function [\u001b[01;35m\u001b[K-Wmaybe-uninitialized\u001b[m\u001b[K]\r\n",
      "       if(j%2==0) xp=x; else if\u001b[01;35m\u001b[K(\u001b[m\u001b[Kxp<x) { ys=0; ye=h-1; }\r\n",
      "                               \u001b[01;35m\u001b[K^\u001b[m\u001b[K\r\n",
      "gcc -pthread -B /opt/conda/compiler_compat -Wl,--sysroot=/ -Wsign-compare -DNDEBUG -g -fwrapv -O3 -Wall -Wstrict-prototypes -fPIC -I/opt/conda/lib/python3.7/site-packages/numpy/core/include -I../common -I/opt/conda/include/python3.7m -c pycocotools/_mask.c -o build/temp.linux-x86_64-3.7/pycocotools/_mask.o -Wno-cpp -Wno-unused-function -std=c99\r\n",
      "gcc -pthread -shared -B /opt/conda/compiler_compat -L/opt/conda/lib -Wl,-rpath=/opt/conda/lib -Wl,--no-as-needed -Wl,--sysroot=/ build/temp.linux-x86_64-3.7/../common/maskApi.o build/temp.linux-x86_64-3.7/pycocotools/_mask.o -o build/lib.linux-x86_64-3.7/pycocotools/_mask.cpython-37m-x86_64-linux-gnu.so\r\n",
      "creating build/bdist.linux-x86_64\r\n",
      "creating build/bdist.linux-x86_64/egg\r\n",
      "creating build/bdist.linux-x86_64/egg/pycocotools\r\n",
      "copying build/lib.linux-x86_64-3.7/pycocotools/mask.py -> build/bdist.linux-x86_64/egg/pycocotools\r\n",
      "copying build/lib.linux-x86_64-3.7/pycocotools/cocoeval.py -> build/bdist.linux-x86_64/egg/pycocotools\r\n",
      "copying build/lib.linux-x86_64-3.7/pycocotools/_mask.cpython-37m-x86_64-linux-gnu.so -> build/bdist.linux-x86_64/egg/pycocotools\r\n",
      "copying build/lib.linux-x86_64-3.7/pycocotools/__init__.py -> build/bdist.linux-x86_64/egg/pycocotools\r\n",
      "copying build/lib.linux-x86_64-3.7/pycocotools/coco.py -> build/bdist.linux-x86_64/egg/pycocotools\r\n",
      "byte-compiling build/bdist.linux-x86_64/egg/pycocotools/mask.py to mask.cpython-37.pyc\r\n",
      "byte-compiling build/bdist.linux-x86_64/egg/pycocotools/cocoeval.py to cocoeval.cpython-37.pyc\r\n",
      "byte-compiling build/bdist.linux-x86_64/egg/pycocotools/__init__.py to __init__.cpython-37.pyc\r\n",
      "byte-compiling build/bdist.linux-x86_64/egg/pycocotools/coco.py to coco.cpython-37.pyc\r\n",
      "creating stub loader for pycocotools/_mask.cpython-37m-x86_64-linux-gnu.so\r\n",
      "byte-compiling build/bdist.linux-x86_64/egg/pycocotools/_mask.py to _mask.cpython-37.pyc\r\n",
      "creating build/bdist.linux-x86_64/egg/EGG-INFO\r\n",
      "copying pycocotools.egg-info/PKG-INFO -> build/bdist.linux-x86_64/egg/EGG-INFO\r\n",
      "copying pycocotools.egg-info/SOURCES.txt -> build/bdist.linux-x86_64/egg/EGG-INFO\r\n",
      "copying pycocotools.egg-info/dependency_links.txt -> build/bdist.linux-x86_64/egg/EGG-INFO\r\n",
      "copying pycocotools.egg-info/requires.txt -> build/bdist.linux-x86_64/egg/EGG-INFO\r\n",
      "copying pycocotools.egg-info/top_level.txt -> build/bdist.linux-x86_64/egg/EGG-INFO\r\n",
      "writing build/bdist.linux-x86_64/egg/EGG-INFO/native_libs.txt\r\n",
      "zip_safe flag not set; analyzing archive contents...\r\n",
      "pycocotools.__pycache__._mask.cpython-37: module references __file__\r\n",
      "creating 'dist/pycocotools-2.0-py3.7-linux-x86_64.egg' and adding 'build/bdist.linux-x86_64/egg' to it\r\n",
      "removing 'build/bdist.linux-x86_64/egg' (and everything under it)\r\n",
      "Processing pycocotools-2.0-py3.7-linux-x86_64.egg\r\n",
      "removing '/opt/conda/lib/python3.7/site-packages/pycocotools-2.0-py3.7-linux-x86_64.egg' (and everything under it)\r\n",
      "creating /opt/conda/lib/python3.7/site-packages/pycocotools-2.0-py3.7-linux-x86_64.egg\r\n",
      "Extracting pycocotools-2.0-py3.7-linux-x86_64.egg to /opt/conda/lib/python3.7/site-packages\r\n",
      "pycocotools 2.0 is already the active version in easy-install.pth\r\n",
      "\r\n",
      "Installed /opt/conda/lib/python3.7/site-packages/pycocotools-2.0-py3.7-linux-x86_64.egg\r\n",
      "Processing dependencies for pycocotools==2.0\r\n",
      "Searching for matplotlib==3.2.1\r\n",
      "Best match: matplotlib 3.2.1\r\n",
      "Adding matplotlib 3.2.1 to easy-install.pth file\r\n",
      "\r\n",
      "Using /opt/conda/lib/python3.7/site-packages\r\n",
      "Searching for Cython==0.29.21\r\n",
      "Best match: Cython 0.29.21\r\n",
      "Adding Cython 0.29.21 to easy-install.pth file\r\n",
      "Installing cygdb script to /opt/conda/bin\r\n",
      "Installing cython script to /opt/conda/bin\r\n",
      "Installing cythonize script to /opt/conda/bin\r\n",
      "\r\n",
      "Using /opt/conda/lib/python3.7/site-packages\r\n",
      "Searching for setuptools==46.1.3.post20200325\r\n",
      "Best match: setuptools 46.1.3.post20200325\r\n",
      "Adding setuptools 46.1.3.post20200325 to easy-install.pth file\r\n",
      "Installing easy_install script to /opt/conda/bin\r\n",
      "\r\n",
      "Using /opt/conda/lib/python3.7/site-packages\r\n",
      "Searching for numpy==1.18.5\r\n",
      "Best match: numpy 1.18.5\r\n",
      "Adding numpy 1.18.5 to easy-install.pth file\r\n",
      "Installing f2py script to /opt/conda/bin\r\n",
      "Installing f2py3 script to /opt/conda/bin\r\n",
      "Installing f2py3.7 script to /opt/conda/bin\r\n",
      "\r\n",
      "Using /opt/conda/lib/python3.7/site-packages\r\n",
      "Searching for kiwisolver==1.2.0\r\n",
      "Best match: kiwisolver 1.2.0\r\n",
      "Adding kiwisolver 1.2.0 to easy-install.pth file\r\n",
      "\r\n",
      "Using /opt/conda/lib/python3.7/site-packages\r\n",
      "Searching for pyparsing==2.4.7\r\n",
      "Best match: pyparsing 2.4.7\r\n",
      "Adding pyparsing 2.4.7 to easy-install.pth file\r\n",
      "\r\n",
      "Using /opt/conda/lib/python3.7/site-packages\r\n",
      "Searching for python-dateutil==2.8.1\r\n",
      "Best match: python-dateutil 2.8.1\r\n",
      "Adding python-dateutil 2.8.1 to easy-install.pth file\r\n",
      "\r\n",
      "Using /opt/conda/lib/python3.7/site-packages\r\n",
      "Searching for cycler==0.10.0\r\n",
      "Best match: cycler 0.10.0\r\n",
      "Adding cycler 0.10.0 to easy-install.pth file\r\n",
      "\r\n",
      "Using /opt/conda/lib/python3.7/site-packages\r\n",
      "Searching for six==1.14.0\r\n",
      "Best match: six 1.14.0\r\n",
      "Adding six 1.14.0 to easy-install.pth file\r\n",
      "\r\n",
      "Using /opt/conda/lib/python3.7/site-packages\r\n",
      "Finished processing dependencies for pycocotools==2.0\r\n"
     ]
    }
   ],
   "source": [
    "!python setup.py install"
   ]
  },
  {
   "cell_type": "code",
   "execution_count": 9,
   "metadata": {
    "execution": {
     "iopub.execute_input": "2020-12-28T03:56:57.926602Z",
     "iopub.status.busy": "2020-12-28T03:56:57.925683Z",
     "iopub.status.idle": "2020-12-28T03:56:57.929873Z",
     "shell.execute_reply": "2020-12-28T03:56:57.929215Z"
    },
    "papermill": {
     "duration": 0.042445,
     "end_time": "2020-12-28T03:56:57.929969",
     "exception": false,
     "start_time": "2020-12-28T03:56:57.887524",
     "status": "completed"
    },
    "tags": []
   },
   "outputs": [],
   "source": [
    "import pycocotools"
   ]
  },
  {
   "cell_type": "code",
   "execution_count": 10,
   "metadata": {
    "execution": {
     "iopub.execute_input": "2020-12-28T03:56:58.003544Z",
     "iopub.status.busy": "2020-12-28T03:56:58.002584Z",
     "iopub.status.idle": "2020-12-28T03:56:58.008757Z",
     "shell.execute_reply": "2020-12-28T03:56:58.008005Z"
    },
    "papermill": {
     "duration": 0.043585,
     "end_time": "2020-12-28T03:56:58.008933",
     "exception": false,
     "start_time": "2020-12-28T03:56:57.965348",
     "status": "completed"
    },
    "tags": []
   },
   "outputs": [
    {
     "name": "stdout",
     "output_type": "stream",
     "text": [
      "/kaggle/working/mmdetection\n"
     ]
    }
   ],
   "source": [
    "cd ../.."
   ]
  },
  {
   "cell_type": "code",
   "execution_count": 11,
   "metadata": {
    "execution": {
     "iopub.execute_input": "2020-12-28T03:56:58.115739Z",
     "iopub.status.busy": "2020-12-28T03:56:58.114901Z",
     "iopub.status.idle": "2020-12-28T03:59:46.540603Z",
     "shell.execute_reply": "2020-12-28T03:59:46.539955Z"
    },
    "papermill": {
     "duration": 168.497395,
     "end_time": "2020-12-28T03:59:46.540723",
     "exception": false,
     "start_time": "2020-12-28T03:56:58.043328",
     "status": "completed"
    },
    "tags": []
   },
   "outputs": [
    {
     "name": "stdout",
     "output_type": "stream",
     "text": [
      "Processing /kaggle/input/torchwhl/torch-1.7.1-cp37-cp37m-linux_x86_64.whl\r\n",
      "Requirement already satisfied: numpy in /opt/conda/lib/python3.7/site-packages (from torch==1.7.1) (1.18.5)\r\n",
      "Requirement already satisfied: typing-extensions in /opt/conda/lib/python3.7/site-packages (from torch==1.7.1) (3.7.4.1)\r\n",
      "Installing collected packages: torch\r\n",
      "  Attempting uninstall: torch\r\n",
      "    Found existing installation: torch 1.7.0\r\n",
      "    Uninstalling torch-1.7.0:\r\n",
      "      Successfully uninstalled torch-1.7.0\r\n",
      "Successfully installed torch-1.7.1\r\n",
      "Processing /kaggle/input/torchwhl/torchvision-0.8.2-cp37-cp37m-linux_x86_64.whl\r\n",
      "Requirement already satisfied: torch==1.7.1 in /opt/conda/lib/python3.7/site-packages (from torchvision==0.8.2) (1.7.1)\r\n",
      "Requirement already satisfied: numpy in /opt/conda/lib/python3.7/site-packages (from torchvision==0.8.2) (1.18.5)\r\n",
      "Requirement already satisfied: pillow>=4.1.1 in /opt/conda/lib/python3.7/site-packages (from torchvision==0.8.2) (8.0.1)\r\n",
      "Requirement already satisfied: numpy in /opt/conda/lib/python3.7/site-packages (from torchvision==0.8.2) (1.18.5)\r\n",
      "Requirement already satisfied: typing-extensions in /opt/conda/lib/python3.7/site-packages (from torch==1.7.1->torchvision==0.8.2) (3.7.4.1)\r\n",
      "Installing collected packages: torchvision\r\n",
      "  Attempting uninstall: torchvision\r\n",
      "    Found existing installation: torchvision 0.8.1\r\n",
      "    Uninstalling torchvision-0.8.1:\r\n",
      "      Successfully uninstalled torchvision-0.8.1\r\n",
      "Successfully installed torchvision-0.8.2\r\n",
      "Processing /kaggle/input/torchwhl/torchaudio-0.7.2-cp37-cp37m-linux_x86_64.whl\r\n",
      "Requirement already satisfied: torch==1.7.1 in /opt/conda/lib/python3.7/site-packages (from torchaudio==0.7.2) (1.7.1)\r\n",
      "Requirement already satisfied: typing-extensions in /opt/conda/lib/python3.7/site-packages (from torch==1.7.1->torchaudio==0.7.2) (3.7.4.1)\r\n",
      "Requirement already satisfied: numpy in /opt/conda/lib/python3.7/site-packages (from torch==1.7.1->torchaudio==0.7.2) (1.18.5)\r\n",
      "Installing collected packages: torchaudio\r\n",
      "  Attempting uninstall: torchaudio\r\n",
      "    Found existing installation: torchaudio 0.7.0a0+ac17b64\r\n",
      "    Uninstalling torchaudio-0.7.0a0+ac17b64:\r\n",
      "      Successfully uninstalled torchaudio-0.7.0a0+ac17b64\r\n",
      "Successfully installed torchaudio-0.7.2\r\n",
      "Processing /kaggle/input/mmcvwhl/mmpycocotools-12.0.3-cp37-cp37m-linux_x86_64.whl\r\n",
      "Requirement already satisfied: matplotlib>=2.1.0 in /opt/conda/lib/python3.7/site-packages (from mmpycocotools==12.0.3) (3.2.1)\r\n",
      "Requirement already satisfied: setuptools>=18.0 in /opt/conda/lib/python3.7/site-packages (from mmpycocotools==12.0.3) (46.1.3.post20200325)\r\n",
      "Requirement already satisfied: cython>=0.27.3 in /opt/conda/lib/python3.7/site-packages (from mmpycocotools==12.0.3) (0.29.21)\r\n",
      "Requirement already satisfied: kiwisolver>=1.0.1 in /opt/conda/lib/python3.7/site-packages (from matplotlib>=2.1.0->mmpycocotools==12.0.3) (1.2.0)\r\n",
      "Requirement already satisfied: pyparsing!=2.0.4,!=2.1.2,!=2.1.6,>=2.0.1 in /opt/conda/lib/python3.7/site-packages (from matplotlib>=2.1.0->mmpycocotools==12.0.3) (2.4.7)\r\n",
      "Requirement already satisfied: cycler>=0.10 in /opt/conda/lib/python3.7/site-packages (from matplotlib>=2.1.0->mmpycocotools==12.0.3) (0.10.0)\r\n",
      "Requirement already satisfied: numpy>=1.11 in /opt/conda/lib/python3.7/site-packages (from matplotlib>=2.1.0->mmpycocotools==12.0.3) (1.18.5)\r\n",
      "Requirement already satisfied: python-dateutil>=2.1 in /opt/conda/lib/python3.7/site-packages (from matplotlib>=2.1.0->mmpycocotools==12.0.3) (2.8.1)\r\n",
      "Requirement already satisfied: six in /opt/conda/lib/python3.7/site-packages (from cycler>=0.10->matplotlib>=2.1.0->mmpycocotools==12.0.3) (1.14.0)\r\n",
      "Requirement already satisfied: six in /opt/conda/lib/python3.7/site-packages (from cycler>=0.10->matplotlib>=2.1.0->mmpycocotools==12.0.3) (1.14.0)\r\n",
      "Installing collected packages: mmpycocotools\r\n",
      "Successfully installed mmpycocotools-12.0.3\r\n"
     ]
    }
   ],
   "source": [
    "!pip install ../../input/torchwhl/torch-1.7.1-cp37-cp37m-linux_x86_64.whl\n",
    "!pip install ../../input/torchwhl/torchvision-0.8.2-cp37-cp37m-linux_x86_64.whl\n",
    "!pip install ../../input/torchwhl/torchaudio-0.7.2-cp37-cp37m-linux_x86_64.whl\n",
    "!pip install ../../input/mmcvwhl/mmpycocotools-12.0.3-cp37-cp37m-linux_x86_64.whl"
   ]
  },
  {
   "cell_type": "code",
   "execution_count": 12,
   "metadata": {
    "execution": {
     "iopub.execute_input": "2020-12-28T03:59:46.629115Z",
     "iopub.status.busy": "2020-12-28T03:59:46.628211Z",
     "iopub.status.idle": "2020-12-28T04:00:22.400348Z",
     "shell.execute_reply": "2020-12-28T04:00:22.398813Z"
    },
    "papermill": {
     "duration": 35.819937,
     "end_time": "2020-12-28T04:00:22.400526",
     "exception": false,
     "start_time": "2020-12-28T03:59:46.580589",
     "status": "completed"
    },
    "tags": []
   },
   "outputs": [
    {
     "name": "stdout",
     "output_type": "stream",
     "text": [
      "Using pip 20.3.1 from /opt/conda/lib/python3.7/site-packages/pip (python 3.7)\r\n",
      "Non-user install because site-packages writeable\r\n",
      "Created temporary directory: /tmp/pip-ephem-wheel-cache-cgc_br0d\r\n",
      "Created temporary directory: /tmp/pip-req-tracker-rrywmsaq\r\n",
      "Initialized build tracking at /tmp/pip-req-tracker-rrywmsaq\r\n",
      "Created build tracker: /tmp/pip-req-tracker-rrywmsaq\r\n",
      "Entered build tracker: /tmp/pip-req-tracker-rrywmsaq\r\n",
      "Created temporary directory: /tmp/pip-install-8jrndrde\r\n",
      "Obtaining file:///kaggle/working/mmdetection\r\n",
      "  Added file:///kaggle/working/mmdetection to build tracker '/tmp/pip-req-tracker-rrywmsaq'\r\n",
      "    Running setup.py (path:/kaggle/working/mmdetection/setup.py) egg_info for package from file:///kaggle/working/mmdetection\r\n",
      "    Created temporary directory: /tmp/pip-pip-egg-info-ci11ggnm\r\n",
      "    Running command python setup.py egg_info\r\n",
      "    running egg_info\r\n",
      "    creating /tmp/pip-pip-egg-info-ci11ggnm/mmdet.egg-info\r\n",
      "    writing /tmp/pip-pip-egg-info-ci11ggnm/mmdet.egg-info/PKG-INFO\r\n",
      "    writing dependency_links to /tmp/pip-pip-egg-info-ci11ggnm/mmdet.egg-info/dependency_links.txt\r\n",
      "    writing requirements to /tmp/pip-pip-egg-info-ci11ggnm/mmdet.egg-info/requires.txt\r\n",
      "    writing top-level names to /tmp/pip-pip-egg-info-ci11ggnm/mmdet.egg-info/top_level.txt\r\n",
      "    writing manifest file '/tmp/pip-pip-egg-info-ci11ggnm/mmdet.egg-info/SOURCES.txt'\r\n",
      "    reading manifest file '/tmp/pip-pip-egg-info-ci11ggnm/mmdet.egg-info/SOURCES.txt'\r\n",
      "    writing manifest file '/tmp/pip-pip-egg-info-ci11ggnm/mmdet.egg-info/SOURCES.txt'\r\n",
      "  Source in /kaggle/working/mmdetection has version 2.6.0, which satisfies requirement mmdet==2.6.0 from file:///kaggle/working/mmdetection\r\n",
      "  Removed mmdet==2.6.0 from file:///kaggle/working/mmdetection from build tracker '/tmp/pip-req-tracker-rrywmsaq'\r\n",
      "Requirement already satisfied: matplotlib in /opt/conda/lib/python3.7/site-packages (from mmdet==2.6.0) (3.2.1)\r\n",
      "Requirement already satisfied: mmpycocotools in /opt/conda/lib/python3.7/site-packages (from mmdet==2.6.0) (12.0.3)\r\n",
      "Requirement already satisfied: numpy in /opt/conda/lib/python3.7/site-packages (from mmdet==2.6.0) (1.18.5)\r\n",
      "Requirement already satisfied: six in /opt/conda/lib/python3.7/site-packages (from mmdet==2.6.0) (1.14.0)\r\n",
      "Requirement already satisfied: terminaltables in /opt/conda/lib/python3.7/site-packages (from mmdet==2.6.0) (3.1.0)\r\n",
      "Requirement already satisfied: cycler>=0.10 in /opt/conda/lib/python3.7/site-packages (from matplotlib->mmdet==2.6.0) (0.10.0)\r\n",
      "Requirement already satisfied: numpy in /opt/conda/lib/python3.7/site-packages (from mmdet==2.6.0) (1.18.5)\r\n",
      "Requirement already satisfied: kiwisolver>=1.0.1 in /opt/conda/lib/python3.7/site-packages (from matplotlib->mmdet==2.6.0) (1.2.0)\r\n",
      "Requirement already satisfied: pyparsing!=2.0.4,!=2.1.2,!=2.1.6,>=2.0.1 in /opt/conda/lib/python3.7/site-packages (from matplotlib->mmdet==2.6.0) (2.4.7)\r\n",
      "Requirement already satisfied: python-dateutil>=2.1 in /opt/conda/lib/python3.7/site-packages (from matplotlib->mmdet==2.6.0) (2.8.1)\r\n",
      "Requirement already satisfied: six in /opt/conda/lib/python3.7/site-packages (from mmdet==2.6.0) (1.14.0)\r\n",
      "Requirement already satisfied: cython>=0.27.3 in /opt/conda/lib/python3.7/site-packages (from mmpycocotools->mmdet==2.6.0) (0.29.21)\r\n",
      "Requirement already satisfied: setuptools>=18.0 in /opt/conda/lib/python3.7/site-packages (from mmpycocotools->mmdet==2.6.0) (46.1.3.post20200325)\r\n",
      "Requirement already satisfied: matplotlib in /opt/conda/lib/python3.7/site-packages (from mmdet==2.6.0) (3.2.1)\r\n",
      "Requirement already satisfied: six in /opt/conda/lib/python3.7/site-packages (from mmdet==2.6.0) (1.14.0)\r\n",
      "Created temporary directory: /tmp/pip-unpack-0992qqw8\r\n",
      "Installing collected packages: mmdet\r\n",
      "  Running setup.py develop for mmdet\r\n",
      "    Running command /opt/conda/bin/python3.7 -c 'import sys, setuptools, tokenize; sys.argv[0] = '\"'\"'/kaggle/working/mmdetection/setup.py'\"'\"'; __file__='\"'\"'/kaggle/working/mmdetection/setup.py'\"'\"';f=getattr(tokenize, '\"'\"'open'\"'\"', open)(__file__);code=f.read().replace('\"'\"'\\r\\n'\"'\"', '\"'\"'\\n'\"'\"');f.close();exec(compile(code, __file__, '\"'\"'exec'\"'\"'))' develop --no-deps\r\n",
      "    running develop\r\n",
      "    running egg_info\r\n",
      "    writing mmdet.egg-info/PKG-INFO\r\n",
      "    writing dependency_links to mmdet.egg-info/dependency_links.txt\r\n",
      "    writing requirements to mmdet.egg-info/requires.txt\r\n",
      "    writing top-level names to mmdet.egg-info/top_level.txt\r\n",
      "    reading manifest file 'mmdet.egg-info/SOURCES.txt'\r\n",
      "    writing manifest file 'mmdet.egg-info/SOURCES.txt'\r\n",
      "    running build_ext\r\n",
      "    Creating /opt/conda/lib/python3.7/site-packages/mmdet.egg-link (link to .)\r\n",
      "    Adding mmdet 2.6.0 to easy-install.pth file\r\n",
      "\r\n",
      "    Installed /kaggle/working/mmdetection\r\n",
      "Successfully installed mmdet\r\n",
      "1 location(s) to search for versions of pip:\r\n",
      "* https://pypi.org/simple/pip/\r\n",
      "Fetching project page and analyzing links: https://pypi.org/simple/pip/\r\n",
      "Getting page https://pypi.org/simple/pip/\r\n",
      "Found index url https://pypi.org/simple\r\n",
      "Getting credentials from keyring for https://pypi.org/simple\r\n",
      "Getting credentials from keyring for pypi.org\r\n",
      "Looking up \"https://pypi.org/simple/pip/\" in the cache\r\n",
      "Request header has \"max_age\" as 0, cache bypassed\r\n",
      "Starting new HTTPS connection (1): pypi.org:443\r\n",
      "Could not fetch URL https://pypi.org/simple/pip/: connection error: HTTPSConnectionPool(host='pypi.org', port=443): Max retries exceeded with url: /simple/pip/ (Caused by NewConnectionError('<pip._vendor.urllib3.connection.HTTPSConnection object at 0x7feaae3cb250>: Failed to establish a new connection: [Errno -3] Temporary failure in name resolution')) - skipping\r\n",
      "Given no hashes to check 0 links for project 'pip': discarding no candidates\r\n",
      "Removed build tracker: '/tmp/pip-req-tracker-rrywmsaq'\r\n"
     ]
    }
   ],
   "source": [
    "!pip install -v -e ."
   ]
  },
  {
   "cell_type": "code",
   "execution_count": 13,
   "metadata": {
    "execution": {
     "iopub.execute_input": "2020-12-28T04:00:22.698316Z",
     "iopub.status.busy": "2020-12-28T04:00:22.697391Z",
     "iopub.status.idle": "2020-12-28T04:00:52.483166Z",
     "shell.execute_reply": "2020-12-28T04:00:52.482380Z"
    },
    "papermill": {
     "duration": 29.949966,
     "end_time": "2020-12-28T04:00:52.483322",
     "exception": false,
     "start_time": "2020-12-28T04:00:22.533356",
     "status": "completed"
    },
    "tags": []
   },
   "outputs": [
    {
     "name": "stdout",
     "output_type": "stream",
     "text": [
      "Processing /kaggle/input/mmcvwhl/mmcv_full-1.2.1torch1.7.0cu102-cp37-cp37m-manylinux1_x86_64.whl\r\n",
      "Requirement already satisfied: pyyaml in /opt/conda/lib/python3.7/site-packages (from mmcv-full==1.2.1torch1.7.0cu102) (5.3.1)\r\n",
      "Requirement already satisfied: numpy in /opt/conda/lib/python3.7/site-packages (from mmcv-full==1.2.1torch1.7.0cu102) (1.18.5)\r\n",
      "Requirement already satisfied: yapf in /opt/conda/lib/python3.7/site-packages (from mmcv-full==1.2.1torch1.7.0cu102) (0.29.0)\r\n",
      "Requirement already satisfied: Pillow in /opt/conda/lib/python3.7/site-packages (from mmcv-full==1.2.1torch1.7.0cu102) (8.0.1)\r\n",
      "Requirement already satisfied: addict in /opt/conda/lib/python3.7/site-packages (from mmcv-full==1.2.1torch1.7.0cu102) (2.2.1)\r\n",
      "Requirement already satisfied: opencv-python>=3 in /opt/conda/lib/python3.7/site-packages (from mmcv-full==1.2.1torch1.7.0cu102) (4.4.0.46)\r\n",
      "Requirement already satisfied: numpy in /opt/conda/lib/python3.7/site-packages (from mmcv-full==1.2.1torch1.7.0cu102) (1.18.5)\r\n",
      "Installing collected packages: mmcv-full\r\n",
      "Successfully installed mmcv-full-1.2.1\r\n"
     ]
    }
   ],
   "source": [
    "!pip install ../../input/mmcvwhl/mmcv_full-1.2.1torch1.7.0cu102-cp37-cp37m-manylinux1_x86_64.whl"
   ]
  },
  {
   "cell_type": "code",
   "execution_count": 14,
   "metadata": {
    "execution": {
     "iopub.execute_input": "2020-12-28T04:00:52.585529Z",
     "iopub.status.busy": "2020-12-28T04:00:52.584468Z",
     "iopub.status.idle": "2020-12-28T04:00:52.589574Z",
     "shell.execute_reply": "2020-12-28T04:00:52.590361Z"
    },
    "papermill": {
     "duration": 0.059026,
     "end_time": "2020-12-28T04:00:52.590514",
     "exception": false,
     "start_time": "2020-12-28T04:00:52.531488",
     "status": "completed"
    },
    "tags": []
   },
   "outputs": [
    {
     "name": "stdout",
     "output_type": "stream",
     "text": [
      "/kaggle/working\n"
     ]
    }
   ],
   "source": [
    "cd .."
   ]
  },
  {
   "cell_type": "code",
   "execution_count": 15,
   "metadata": {
    "execution": {
     "iopub.execute_input": "2020-12-28T04:00:52.691154Z",
     "iopub.status.busy": "2020-12-28T04:00:52.690220Z",
     "iopub.status.idle": "2020-12-28T04:00:53.375209Z",
     "shell.execute_reply": "2020-12-28T04:00:53.374143Z"
    },
    "papermill": {
     "duration": 0.738402,
     "end_time": "2020-12-28T04:00:53.375337",
     "exception": false,
     "start_time": "2020-12-28T04:00:52.636935",
     "status": "completed"
    },
    "tags": []
   },
   "outputs": [],
   "source": [
    "mkdir result"
   ]
  },
  {
   "cell_type": "code",
   "execution_count": 16,
   "metadata": {
    "execution": {
     "iopub.execute_input": "2020-12-28T04:00:53.474506Z",
     "iopub.status.busy": "2020-12-28T04:00:53.473574Z",
     "iopub.status.idle": "2020-12-28T04:00:53.479836Z",
     "shell.execute_reply": "2020-12-28T04:00:53.479109Z"
    },
    "papermill": {
     "duration": 0.057341,
     "end_time": "2020-12-28T04:00:53.479979",
     "exception": false,
     "start_time": "2020-12-28T04:00:53.422638",
     "status": "completed"
    },
    "tags": []
   },
   "outputs": [
    {
     "name": "stdout",
     "output_type": "stream",
     "text": [
      "/kaggle/working/mmdetection\n"
     ]
    }
   ],
   "source": [
    "cd mmdetection"
   ]
  },
  {
   "cell_type": "code",
   "execution_count": 17,
   "metadata": {
    "execution": {
     "iopub.execute_input": "2020-12-28T04:00:53.579481Z",
     "iopub.status.busy": "2020-12-28T04:00:53.578629Z",
     "iopub.status.idle": "2020-12-28T04:00:54.253406Z",
     "shell.execute_reply": "2020-12-28T04:00:54.252756Z"
    },
    "papermill": {
     "duration": 0.726696,
     "end_time": "2020-12-28T04:00:54.253520",
     "exception": false,
     "start_time": "2020-12-28T04:00:53.526824",
     "status": "completed"
    },
    "tags": []
   },
   "outputs": [],
   "source": [
    "!cp -r ../../input/convert/utils.py ../"
   ]
  },
  {
   "cell_type": "code",
   "execution_count": 18,
   "metadata": {
    "execution": {
     "iopub.execute_input": "2020-12-28T04:00:54.354045Z",
     "iopub.status.busy": "2020-12-28T04:00:54.353210Z",
     "iopub.status.idle": "2020-12-28T04:00:54.621314Z",
     "shell.execute_reply": "2020-12-28T04:00:54.622162Z"
    },
    "papermill": {
     "duration": 0.320694,
     "end_time": "2020-12-28T04:00:54.622396",
     "exception": false,
     "start_time": "2020-12-28T04:00:54.301702",
     "status": "completed"
    },
    "tags": []
   },
   "outputs": [],
   "source": [
    "from utils import testJson\n",
    "testJson('../testCOCO.json', '../../input/global-wheat-detection/sample_submission.csv', '../../input/global-wheat-detection/test/')"
   ]
  },
  {
   "cell_type": "code",
   "execution_count": 19,
   "metadata": {
    "execution": {
     "iopub.execute_input": "2020-12-28T04:00:54.798487Z",
     "iopub.status.busy": "2020-12-28T04:00:54.797372Z",
     "iopub.status.idle": "2020-12-28T04:01:12.942537Z",
     "shell.execute_reply": "2020-12-28T04:01:12.943061Z"
    },
    "papermill": {
     "duration": 18.235493,
     "end_time": "2020-12-28T04:01:12.943266",
     "exception": false,
     "start_time": "2020-12-28T04:00:54.707773",
     "status": "completed"
    },
    "tags": []
   },
   "outputs": [
    {
     "name": "stdout",
     "output_type": "stream",
     "text": [
      "tools/test.py:99: UserWarning: --options is deprecated in favor of --eval-options\r\n",
      "  warnings.warn('--options is deprecated in favor of --eval-options')\r\n",
      "loading annotations into memory...\r\n",
      "Done (t=0.00s)\r\n",
      "creating index...\r\n",
      "index created!\r\n",
      "[>>>>>>>>>>>>>>>>>>>>>>>>>>>>>>>>>] 10/10, 7.3 task/s, elapsed: 1s, ETA:     0s"
     ]
    }
   ],
   "source": [
    "!python tools/test.py \\\n",
    "        configs/wheat/pre_yolov3_1024_norm.py \\\n",
    "        ../../input/weights/gamma_pre_epo33_norm_yolov3_1024_50.pth \\\n",
    "        --format-only \\\n",
    "        --options \"jsonfile_prefix=../result/yolov3\""
   ]
  },
  {
   "cell_type": "code",
   "execution_count": 20,
   "metadata": {
    "execution": {
     "iopub.execute_input": "2020-12-28T04:01:13.056756Z",
     "iopub.status.busy": "2020-12-28T04:01:13.055808Z",
     "iopub.status.idle": "2020-12-28T04:01:13.061248Z",
     "shell.execute_reply": "2020-12-28T04:01:13.060768Z"
    },
    "papermill": {
     "duration": 0.063448,
     "end_time": "2020-12-28T04:01:13.061348",
     "exception": false,
     "start_time": "2020-12-28T04:01:12.997900",
     "status": "completed"
    },
    "tags": []
   },
   "outputs": [
    {
     "name": "stdout",
     "output_type": "stream",
     "text": [
      "/kaggle/working\n"
     ]
    }
   ],
   "source": [
    "cd .."
   ]
  },
  {
   "cell_type": "code",
   "execution_count": 21,
   "metadata": {
    "execution": {
     "iopub.execute_input": "2020-12-28T04:01:13.172525Z",
     "iopub.status.busy": "2020-12-28T04:01:13.171594Z",
     "iopub.status.idle": "2020-12-28T04:01:13.595696Z",
     "shell.execute_reply": "2020-12-28T04:01:13.596353Z"
    },
    "papermill": {
     "duration": 0.483764,
     "end_time": "2020-12-28T04:01:13.596522",
     "exception": false,
     "start_time": "2020-12-28T04:01:13.112758",
     "status": "completed"
    },
    "tags": []
   },
   "outputs": [],
   "source": [
    "from utils import mmForm2SubmitForm\n",
    "mmForm2SubmitForm('./result/yolov3.bbox.json', './testCOCO.json', 'submission.csv')"
   ]
  },
  {
   "cell_type": "code",
   "execution_count": 22,
   "metadata": {
    "execution": {
     "iopub.execute_input": "2020-12-28T04:01:13.721614Z",
     "iopub.status.busy": "2020-12-28T04:01:13.716793Z",
     "iopub.status.idle": "2020-12-28T04:01:18.236779Z",
     "shell.execute_reply": "2020-12-28T04:01:18.236071Z"
    },
    "papermill": {
     "duration": 4.585667,
     "end_time": "2020-12-28T04:01:18.236930",
     "exception": false,
     "start_time": "2020-12-28T04:01:13.651263",
     "status": "completed"
    },
    "tags": []
   },
   "outputs": [],
   "source": [
    "!rm -r mmdetection/*\n",
    "!rm -r result/*\n",
    "!rm utils.py\n",
    "!rm -r mmdetection\n",
    "!rm -r result"
   ]
  }
 ],
 "metadata": {
  "kernelspec": {
   "display_name": "Python 3",
   "language": "python",
   "name": "python3"
  },
  "language_info": {
   "codemirror_mode": {
    "name": "ipython",
    "version": 3
   },
   "file_extension": ".py",
   "mimetype": "text/x-python",
   "name": "python",
   "nbconvert_exporter": "python",
   "pygments_lexer": "ipython3",
   "version": "3.7.6"
  },
  "papermill": {
   "duration": 451.237834,
   "end_time": "2020-12-28T04:01:18.404334",
   "environment_variables": {},
   "exception": null,
   "input_path": "__notebook__.ipynb",
   "output_path": "__notebook__.ipynb",
   "parameters": {},
   "start_time": "2020-12-28T03:53:47.166500",
   "version": "2.1.0"
  }
 },
 "nbformat": 4,
 "nbformat_minor": 4
}
